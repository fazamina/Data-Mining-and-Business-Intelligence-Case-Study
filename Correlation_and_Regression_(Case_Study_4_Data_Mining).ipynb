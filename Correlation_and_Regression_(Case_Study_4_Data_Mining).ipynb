{
  "nbformat": 4,
  "nbformat_minor": 0,
  "metadata": {
    "colab": {
      "provenance": [],
      "include_colab_link": true
    },
    "kernelspec": {
      "name": "python3",
      "display_name": "Python 3"
    },
    "language_info": {
      "name": "python"
    }
  },
  "cells": [
    {
      "cell_type": "markdown",
      "metadata": {
        "id": "view-in-github",
        "colab_type": "text"
      },
      "source": [
        "<a href=\"https://colab.research.google.com/github/fazamina/Data-Mining-and-Business-Intelligence-Case-Study/blob/main/Correlation_and_Regression_(Case_Study_4_Data_Mining).ipynb\" target=\"_parent\"><img src=\"https://colab.research.google.com/assets/colab-badge.svg\" alt=\"Open In Colab\"/></a>"
      ]
    },
    {
      "cell_type": "markdown",
      "source": [
        "# **Correlation and Regression**\n",
        "###**Case Study Data Mining and Business Intelligence**"
      ],
      "metadata": {
        "id": "3H96mUWA-Gur"
      }
    },
    {
      "cell_type": "code",
      "execution_count": null,
      "metadata": {
        "id": "YO8UH8rMSSVO"
      },
      "outputs": [],
      "source": [
        "#Mengimport modul yang akan digunakan\n",
        "import pandas as pd\n",
        "import numpy as np\n",
        "import matplotlib.pyplot as plt\n",
        "import seaborn as sns\n",
        "import datetime\n",
        "import statsmodels.formula.api as smf\n",
        "from statsmodels.formula.api import ols\n",
        "import statsmodels.api as sm, scipy.stats as stats"
      ]
    },
    {
      "cell_type": "code",
      "source": [
        "url = 'https://raw.githubusercontent.com/taudataid/eLearning/master/data/Ashrae_Energy_Mean.csv'\n",
        "df = pd.read_csv(url,sep=',')\n",
        "df"
      ],
      "metadata": {
        "colab": {
          "base_uri": "https://localhost:8080/",
          "height": 522
        },
        "id": "q9OEvDBtTMC8",
        "outputId": "7136e09b-dbbf-49c6-ddda-35b4da27cd65"
      },
      "execution_count": null,
      "outputs": [
        {
          "output_type": "execute_result",
          "data": {
            "text/plain": [
              "      meter_reading                    primary_use  square_feet  year_built  \\\n",
              "0        237.749127                      Education         7432      2008.0   \n",
              "1        118.553743                      Education         2720      2004.0   \n",
              "2         23.626500                      Education         5376      1991.0   \n",
              "3        382.736016                      Education        23685      2002.0   \n",
              "4       1579.174237                      Education       116607      1975.0   \n",
              "...             ...                            ...          ...         ...   \n",
              "1408       7.484137  Entertainment/public assembly        19619      1914.0   \n",
              "1409       4.732815                      Education         4298         NaN   \n",
              "1410       7.211347  Entertainment/public assembly        11265      1997.0   \n",
              "1411     187.117994            Lodging/residential        29775      2001.0   \n",
              "1412       3.338595                         Office        92271      2001.0   \n",
              "\n",
              "      floor_count  air_temperature  cloud_coverage  dew_temperature  \\\n",
              "0             NaN        22.744816        2.998727        17.379328   \n",
              "1             NaN        22.744816        2.998727        17.379328   \n",
              "2             NaN        22.744816        2.998727        17.379328   \n",
              "3             NaN        22.744816        2.998727        17.379328   \n",
              "4             NaN        22.744816        2.998727        17.379328   \n",
              "...           ...              ...             ...              ...   \n",
              "1408          NaN         9.079138        1.092101         4.512823   \n",
              "1409          NaN         9.079138        1.092101         4.512823   \n",
              "1410          NaN         9.079138        1.092101         4.512823   \n",
              "1411          NaN         9.079138        1.092101         4.512823   \n",
              "1412          NaN         9.079138        1.092101         4.512823   \n",
              "\n",
              "      precip_depth_1_hr  sea_level_pressure  wind_direction  wind_speed  \n",
              "0              1.240589         1017.949437      152.521015    3.391472  \n",
              "1              1.240589         1017.949437      152.521015    3.391472  \n",
              "2              1.240589         1017.949437      152.521015    3.391472  \n",
              "3              1.240589         1017.949437      152.521015    3.391472  \n",
              "4              1.240589         1017.949437      152.521015    3.391472  \n",
              "...                 ...                 ...             ...         ...  \n",
              "1408           3.381837         1017.192111      186.648787    3.619547  \n",
              "1409           3.381837         1017.192111      186.648787    3.619547  \n",
              "1410           3.381837         1017.192111      186.648787    3.619547  \n",
              "1411           3.381837         1017.192111      186.648787    3.619547  \n",
              "1412           3.381837         1017.192111      186.648787    3.619547  \n",
              "\n",
              "[1413 rows x 12 columns]"
            ],
            "text/html": [
              "\n",
              "  <div id=\"df-32d869bf-8f22-41e6-b982-88ae2afe1fbd\">\n",
              "    <div class=\"colab-df-container\">\n",
              "      <div>\n",
              "<style scoped>\n",
              "    .dataframe tbody tr th:only-of-type {\n",
              "        vertical-align: middle;\n",
              "    }\n",
              "\n",
              "    .dataframe tbody tr th {\n",
              "        vertical-align: top;\n",
              "    }\n",
              "\n",
              "    .dataframe thead th {\n",
              "        text-align: right;\n",
              "    }\n",
              "</style>\n",
              "<table border=\"1\" class=\"dataframe\">\n",
              "  <thead>\n",
              "    <tr style=\"text-align: right;\">\n",
              "      <th></th>\n",
              "      <th>meter_reading</th>\n",
              "      <th>primary_use</th>\n",
              "      <th>square_feet</th>\n",
              "      <th>year_built</th>\n",
              "      <th>floor_count</th>\n",
              "      <th>air_temperature</th>\n",
              "      <th>cloud_coverage</th>\n",
              "      <th>dew_temperature</th>\n",
              "      <th>precip_depth_1_hr</th>\n",
              "      <th>sea_level_pressure</th>\n",
              "      <th>wind_direction</th>\n",
              "      <th>wind_speed</th>\n",
              "    </tr>\n",
              "  </thead>\n",
              "  <tbody>\n",
              "    <tr>\n",
              "      <th>0</th>\n",
              "      <td>237.749127</td>\n",
              "      <td>Education</td>\n",
              "      <td>7432</td>\n",
              "      <td>2008.0</td>\n",
              "      <td>NaN</td>\n",
              "      <td>22.744816</td>\n",
              "      <td>2.998727</td>\n",
              "      <td>17.379328</td>\n",
              "      <td>1.240589</td>\n",
              "      <td>1017.949437</td>\n",
              "      <td>152.521015</td>\n",
              "      <td>3.391472</td>\n",
              "    </tr>\n",
              "    <tr>\n",
              "      <th>1</th>\n",
              "      <td>118.553743</td>\n",
              "      <td>Education</td>\n",
              "      <td>2720</td>\n",
              "      <td>2004.0</td>\n",
              "      <td>NaN</td>\n",
              "      <td>22.744816</td>\n",
              "      <td>2.998727</td>\n",
              "      <td>17.379328</td>\n",
              "      <td>1.240589</td>\n",
              "      <td>1017.949437</td>\n",
              "      <td>152.521015</td>\n",
              "      <td>3.391472</td>\n",
              "    </tr>\n",
              "    <tr>\n",
              "      <th>2</th>\n",
              "      <td>23.626500</td>\n",
              "      <td>Education</td>\n",
              "      <td>5376</td>\n",
              "      <td>1991.0</td>\n",
              "      <td>NaN</td>\n",
              "      <td>22.744816</td>\n",
              "      <td>2.998727</td>\n",
              "      <td>17.379328</td>\n",
              "      <td>1.240589</td>\n",
              "      <td>1017.949437</td>\n",
              "      <td>152.521015</td>\n",
              "      <td>3.391472</td>\n",
              "    </tr>\n",
              "    <tr>\n",
              "      <th>3</th>\n",
              "      <td>382.736016</td>\n",
              "      <td>Education</td>\n",
              "      <td>23685</td>\n",
              "      <td>2002.0</td>\n",
              "      <td>NaN</td>\n",
              "      <td>22.744816</td>\n",
              "      <td>2.998727</td>\n",
              "      <td>17.379328</td>\n",
              "      <td>1.240589</td>\n",
              "      <td>1017.949437</td>\n",
              "      <td>152.521015</td>\n",
              "      <td>3.391472</td>\n",
              "    </tr>\n",
              "    <tr>\n",
              "      <th>4</th>\n",
              "      <td>1579.174237</td>\n",
              "      <td>Education</td>\n",
              "      <td>116607</td>\n",
              "      <td>1975.0</td>\n",
              "      <td>NaN</td>\n",
              "      <td>22.744816</td>\n",
              "      <td>2.998727</td>\n",
              "      <td>17.379328</td>\n",
              "      <td>1.240589</td>\n",
              "      <td>1017.949437</td>\n",
              "      <td>152.521015</td>\n",
              "      <td>3.391472</td>\n",
              "    </tr>\n",
              "    <tr>\n",
              "      <th>...</th>\n",
              "      <td>...</td>\n",
              "      <td>...</td>\n",
              "      <td>...</td>\n",
              "      <td>...</td>\n",
              "      <td>...</td>\n",
              "      <td>...</td>\n",
              "      <td>...</td>\n",
              "      <td>...</td>\n",
              "      <td>...</td>\n",
              "      <td>...</td>\n",
              "      <td>...</td>\n",
              "      <td>...</td>\n",
              "    </tr>\n",
              "    <tr>\n",
              "      <th>1408</th>\n",
              "      <td>7.484137</td>\n",
              "      <td>Entertainment/public assembly</td>\n",
              "      <td>19619</td>\n",
              "      <td>1914.0</td>\n",
              "      <td>NaN</td>\n",
              "      <td>9.079138</td>\n",
              "      <td>1.092101</td>\n",
              "      <td>4.512823</td>\n",
              "      <td>3.381837</td>\n",
              "      <td>1017.192111</td>\n",
              "      <td>186.648787</td>\n",
              "      <td>3.619547</td>\n",
              "    </tr>\n",
              "    <tr>\n",
              "      <th>1409</th>\n",
              "      <td>4.732815</td>\n",
              "      <td>Education</td>\n",
              "      <td>4298</td>\n",
              "      <td>NaN</td>\n",
              "      <td>NaN</td>\n",
              "      <td>9.079138</td>\n",
              "      <td>1.092101</td>\n",
              "      <td>4.512823</td>\n",
              "      <td>3.381837</td>\n",
              "      <td>1017.192111</td>\n",
              "      <td>186.648787</td>\n",
              "      <td>3.619547</td>\n",
              "    </tr>\n",
              "    <tr>\n",
              "      <th>1410</th>\n",
              "      <td>7.211347</td>\n",
              "      <td>Entertainment/public assembly</td>\n",
              "      <td>11265</td>\n",
              "      <td>1997.0</td>\n",
              "      <td>NaN</td>\n",
              "      <td>9.079138</td>\n",
              "      <td>1.092101</td>\n",
              "      <td>4.512823</td>\n",
              "      <td>3.381837</td>\n",
              "      <td>1017.192111</td>\n",
              "      <td>186.648787</td>\n",
              "      <td>3.619547</td>\n",
              "    </tr>\n",
              "    <tr>\n",
              "      <th>1411</th>\n",
              "      <td>187.117994</td>\n",
              "      <td>Lodging/residential</td>\n",
              "      <td>29775</td>\n",
              "      <td>2001.0</td>\n",
              "      <td>NaN</td>\n",
              "      <td>9.079138</td>\n",
              "      <td>1.092101</td>\n",
              "      <td>4.512823</td>\n",
              "      <td>3.381837</td>\n",
              "      <td>1017.192111</td>\n",
              "      <td>186.648787</td>\n",
              "      <td>3.619547</td>\n",
              "    </tr>\n",
              "    <tr>\n",
              "      <th>1412</th>\n",
              "      <td>3.338595</td>\n",
              "      <td>Office</td>\n",
              "      <td>92271</td>\n",
              "      <td>2001.0</td>\n",
              "      <td>NaN</td>\n",
              "      <td>9.079138</td>\n",
              "      <td>1.092101</td>\n",
              "      <td>4.512823</td>\n",
              "      <td>3.381837</td>\n",
              "      <td>1017.192111</td>\n",
              "      <td>186.648787</td>\n",
              "      <td>3.619547</td>\n",
              "    </tr>\n",
              "  </tbody>\n",
              "</table>\n",
              "<p>1413 rows × 12 columns</p>\n",
              "</div>\n",
              "      <button class=\"colab-df-convert\" onclick=\"convertToInteractive('df-32d869bf-8f22-41e6-b982-88ae2afe1fbd')\"\n",
              "              title=\"Convert this dataframe to an interactive table.\"\n",
              "              style=\"display:none;\">\n",
              "        \n",
              "  <svg xmlns=\"http://www.w3.org/2000/svg\" height=\"24px\"viewBox=\"0 0 24 24\"\n",
              "       width=\"24px\">\n",
              "    <path d=\"M0 0h24v24H0V0z\" fill=\"none\"/>\n",
              "    <path d=\"M18.56 5.44l.94 2.06.94-2.06 2.06-.94-2.06-.94-.94-2.06-.94 2.06-2.06.94zm-11 1L8.5 8.5l.94-2.06 2.06-.94-2.06-.94L8.5 2.5l-.94 2.06-2.06.94zm10 10l.94 2.06.94-2.06 2.06-.94-2.06-.94-.94-2.06-.94 2.06-2.06.94z\"/><path d=\"M17.41 7.96l-1.37-1.37c-.4-.4-.92-.59-1.43-.59-.52 0-1.04.2-1.43.59L10.3 9.45l-7.72 7.72c-.78.78-.78 2.05 0 2.83L4 21.41c.39.39.9.59 1.41.59.51 0 1.02-.2 1.41-.59l7.78-7.78 2.81-2.81c.8-.78.8-2.07 0-2.86zM5.41 20L4 18.59l7.72-7.72 1.47 1.35L5.41 20z\"/>\n",
              "  </svg>\n",
              "      </button>\n",
              "      \n",
              "  <style>\n",
              "    .colab-df-container {\n",
              "      display:flex;\n",
              "      flex-wrap:wrap;\n",
              "      gap: 12px;\n",
              "    }\n",
              "\n",
              "    .colab-df-convert {\n",
              "      background-color: #E8F0FE;\n",
              "      border: none;\n",
              "      border-radius: 50%;\n",
              "      cursor: pointer;\n",
              "      display: none;\n",
              "      fill: #1967D2;\n",
              "      height: 32px;\n",
              "      padding: 0 0 0 0;\n",
              "      width: 32px;\n",
              "    }\n",
              "\n",
              "    .colab-df-convert:hover {\n",
              "      background-color: #E2EBFA;\n",
              "      box-shadow: 0px 1px 2px rgba(60, 64, 67, 0.3), 0px 1px 3px 1px rgba(60, 64, 67, 0.15);\n",
              "      fill: #174EA6;\n",
              "    }\n",
              "\n",
              "    [theme=dark] .colab-df-convert {\n",
              "      background-color: #3B4455;\n",
              "      fill: #D2E3FC;\n",
              "    }\n",
              "\n",
              "    [theme=dark] .colab-df-convert:hover {\n",
              "      background-color: #434B5C;\n",
              "      box-shadow: 0px 1px 3px 1px rgba(0, 0, 0, 0.15);\n",
              "      filter: drop-shadow(0px 1px 2px rgba(0, 0, 0, 0.3));\n",
              "      fill: #FFFFFF;\n",
              "    }\n",
              "  </style>\n",
              "\n",
              "      <script>\n",
              "        const buttonEl =\n",
              "          document.querySelector('#df-32d869bf-8f22-41e6-b982-88ae2afe1fbd button.colab-df-convert');\n",
              "        buttonEl.style.display =\n",
              "          google.colab.kernel.accessAllowed ? 'block' : 'none';\n",
              "\n",
              "        async function convertToInteractive(key) {\n",
              "          const element = document.querySelector('#df-32d869bf-8f22-41e6-b982-88ae2afe1fbd');\n",
              "          const dataTable =\n",
              "            await google.colab.kernel.invokeFunction('convertToInteractive',\n",
              "                                                     [key], {});\n",
              "          if (!dataTable) return;\n",
              "\n",
              "          const docLinkHtml = 'Like what you see? Visit the ' +\n",
              "            '<a target=\"_blank\" href=https://colab.research.google.com/notebooks/data_table.ipynb>data table notebook</a>'\n",
              "            + ' to learn more about interactive tables.';\n",
              "          element.innerHTML = '';\n",
              "          dataTable['output_type'] = 'display_data';\n",
              "          await google.colab.output.renderOutput(dataTable, element);\n",
              "          const docLink = document.createElement('div');\n",
              "          docLink.innerHTML = docLinkHtml;\n",
              "          element.appendChild(docLink);\n",
              "        }\n",
              "      </script>\n",
              "    </div>\n",
              "  </div>\n",
              "  "
            ]
          },
          "metadata": {},
          "execution_count": 24
        }
      ]
    },
    {
      "cell_type": "code",
      "source": [
        "df.dtypes"
      ],
      "metadata": {
        "colab": {
          "base_uri": "https://localhost:8080/"
        },
        "id": "bhPqhWoTVgVK",
        "outputId": "3ec83e06-c7df-4312-a285-3d2e18ca65e6"
      },
      "execution_count": null,
      "outputs": [
        {
          "output_type": "execute_result",
          "data": {
            "text/plain": [
              "meter_reading         float64\n",
              "primary_use            object\n",
              "square_feet             int64\n",
              "year_built            float64\n",
              "floor_count           float64\n",
              "air_temperature       float64\n",
              "cloud_coverage        float64\n",
              "dew_temperature       float64\n",
              "precip_depth_1_hr     float64\n",
              "sea_level_pressure    float64\n",
              "wind_direction        float64\n",
              "wind_speed            float64\n",
              "dtype: object"
            ]
          },
          "metadata": {},
          "execution_count": 25
        }
      ]
    },
    {
      "cell_type": "code",
      "source": [
        "df.info()"
      ],
      "metadata": {
        "colab": {
          "base_uri": "https://localhost:8080/"
        },
        "id": "TU_s3qYDWw6W",
        "outputId": "a770f19e-8a43-4280-9dbc-b3eaae3c459e"
      },
      "execution_count": null,
      "outputs": [
        {
          "output_type": "stream",
          "name": "stdout",
          "text": [
            "<class 'pandas.core.frame.DataFrame'>\n",
            "RangeIndex: 1413 entries, 0 to 1412\n",
            "Data columns (total 12 columns):\n",
            " #   Column              Non-Null Count  Dtype  \n",
            "---  ------              --------------  -----  \n",
            " 0   meter_reading       1413 non-null   float64\n",
            " 1   primary_use         1413 non-null   object \n",
            " 2   square_feet         1413 non-null   int64  \n",
            " 3   year_built          663 non-null    float64\n",
            " 4   floor_count         352 non-null    float64\n",
            " 5   air_temperature     1413 non-null   float64\n",
            " 6   cloud_coverage      1396 non-null   float64\n",
            " 7   dew_temperature     1413 non-null   float64\n",
            " 8   precip_depth_1_hr   1237 non-null   float64\n",
            " 9   sea_level_pressure  1324 non-null   float64\n",
            " 10  wind_direction      1413 non-null   float64\n",
            " 11  wind_speed          1413 non-null   float64\n",
            "dtypes: float64(10), int64(1), object(1)\n",
            "memory usage: 132.6+ KB\n"
          ]
        }
      ]
    },
    {
      "cell_type": "code",
      "source": [
        "df.describe()"
      ],
      "metadata": {
        "colab": {
          "base_uri": "https://localhost:8080/",
          "height": 364
        },
        "id": "Xo_HUPzO2L8h",
        "outputId": "4c5a4a56-27a2-4b7d-f9a1-4ce401c55214"
      },
      "execution_count": null,
      "outputs": [
        {
          "output_type": "execute_result",
          "data": {
            "text/plain": [
              "       meter_reading    square_feet   year_built  floor_count  \\\n",
              "count    1413.000000    1413.000000   663.000000   352.000000   \n",
              "mean      185.383188   92204.792640  1968.170437     3.738636   \n",
              "std       374.899500  111412.340117    31.026539     3.336731   \n",
              "min         0.000400     283.000000  1900.000000     1.000000   \n",
              "25%        27.224943   22949.000000  1949.500000     1.000000   \n",
              "50%        74.933148   57673.000000  1970.000000     3.000000   \n",
              "75%       182.884848  115288.000000  1995.500000     5.000000   \n",
              "max      5072.323426  875000.000000  2017.000000    26.000000   \n",
              "\n",
              "       air_temperature  cloud_coverage  dew_temperature  precip_depth_1_hr  \\\n",
              "count      1413.000000     1396.000000      1413.000000        1237.000000   \n",
              "mean         15.697154        2.166618         8.259831           1.187860   \n",
              "std           5.416736        1.461644         4.625295           1.478667   \n",
              "min           7.572136        0.059266        -0.304675           0.155325   \n",
              "25%          11.058629        0.665832         4.512823           0.775686   \n",
              "50%          15.204244        2.083712         8.285693           0.895980   \n",
              "75%          21.325261        2.998727         9.834399           1.033215   \n",
              "max          24.963702        5.671785        17.379328          11.675633   \n",
              "\n",
              "       sea_level_pressure  wind_direction   wind_speed  \n",
              "count         1324.000000     1413.000000  1413.000000  \n",
              "mean          1016.466990      175.351051     3.564617  \n",
              "std              1.921973       24.921236     0.737746  \n",
              "min           1011.436563      123.388701     2.157103  \n",
              "25%           1016.404579      153.629430     3.100911  \n",
              "50%           1016.797495      184.295922     3.619547  \n",
              "75%           1017.949437      187.301104     3.905433  \n",
              "max           1018.052063      207.134076     5.493939  "
            ],
            "text/html": [
              "\n",
              "  <div id=\"df-158b7527-c319-482f-946e-30bdfb899522\">\n",
              "    <div class=\"colab-df-container\">\n",
              "      <div>\n",
              "<style scoped>\n",
              "    .dataframe tbody tr th:only-of-type {\n",
              "        vertical-align: middle;\n",
              "    }\n",
              "\n",
              "    .dataframe tbody tr th {\n",
              "        vertical-align: top;\n",
              "    }\n",
              "\n",
              "    .dataframe thead th {\n",
              "        text-align: right;\n",
              "    }\n",
              "</style>\n",
              "<table border=\"1\" class=\"dataframe\">\n",
              "  <thead>\n",
              "    <tr style=\"text-align: right;\">\n",
              "      <th></th>\n",
              "      <th>meter_reading</th>\n",
              "      <th>square_feet</th>\n",
              "      <th>year_built</th>\n",
              "      <th>floor_count</th>\n",
              "      <th>air_temperature</th>\n",
              "      <th>cloud_coverage</th>\n",
              "      <th>dew_temperature</th>\n",
              "      <th>precip_depth_1_hr</th>\n",
              "      <th>sea_level_pressure</th>\n",
              "      <th>wind_direction</th>\n",
              "      <th>wind_speed</th>\n",
              "    </tr>\n",
              "  </thead>\n",
              "  <tbody>\n",
              "    <tr>\n",
              "      <th>count</th>\n",
              "      <td>1413.000000</td>\n",
              "      <td>1413.000000</td>\n",
              "      <td>663.000000</td>\n",
              "      <td>352.000000</td>\n",
              "      <td>1413.000000</td>\n",
              "      <td>1396.000000</td>\n",
              "      <td>1413.000000</td>\n",
              "      <td>1237.000000</td>\n",
              "      <td>1324.000000</td>\n",
              "      <td>1413.000000</td>\n",
              "      <td>1413.000000</td>\n",
              "    </tr>\n",
              "    <tr>\n",
              "      <th>mean</th>\n",
              "      <td>185.383188</td>\n",
              "      <td>92204.792640</td>\n",
              "      <td>1968.170437</td>\n",
              "      <td>3.738636</td>\n",
              "      <td>15.697154</td>\n",
              "      <td>2.166618</td>\n",
              "      <td>8.259831</td>\n",
              "      <td>1.187860</td>\n",
              "      <td>1016.466990</td>\n",
              "      <td>175.351051</td>\n",
              "      <td>3.564617</td>\n",
              "    </tr>\n",
              "    <tr>\n",
              "      <th>std</th>\n",
              "      <td>374.899500</td>\n",
              "      <td>111412.340117</td>\n",
              "      <td>31.026539</td>\n",
              "      <td>3.336731</td>\n",
              "      <td>5.416736</td>\n",
              "      <td>1.461644</td>\n",
              "      <td>4.625295</td>\n",
              "      <td>1.478667</td>\n",
              "      <td>1.921973</td>\n",
              "      <td>24.921236</td>\n",
              "      <td>0.737746</td>\n",
              "    </tr>\n",
              "    <tr>\n",
              "      <th>min</th>\n",
              "      <td>0.000400</td>\n",
              "      <td>283.000000</td>\n",
              "      <td>1900.000000</td>\n",
              "      <td>1.000000</td>\n",
              "      <td>7.572136</td>\n",
              "      <td>0.059266</td>\n",
              "      <td>-0.304675</td>\n",
              "      <td>0.155325</td>\n",
              "      <td>1011.436563</td>\n",
              "      <td>123.388701</td>\n",
              "      <td>2.157103</td>\n",
              "    </tr>\n",
              "    <tr>\n",
              "      <th>25%</th>\n",
              "      <td>27.224943</td>\n",
              "      <td>22949.000000</td>\n",
              "      <td>1949.500000</td>\n",
              "      <td>1.000000</td>\n",
              "      <td>11.058629</td>\n",
              "      <td>0.665832</td>\n",
              "      <td>4.512823</td>\n",
              "      <td>0.775686</td>\n",
              "      <td>1016.404579</td>\n",
              "      <td>153.629430</td>\n",
              "      <td>3.100911</td>\n",
              "    </tr>\n",
              "    <tr>\n",
              "      <th>50%</th>\n",
              "      <td>74.933148</td>\n",
              "      <td>57673.000000</td>\n",
              "      <td>1970.000000</td>\n",
              "      <td>3.000000</td>\n",
              "      <td>15.204244</td>\n",
              "      <td>2.083712</td>\n",
              "      <td>8.285693</td>\n",
              "      <td>0.895980</td>\n",
              "      <td>1016.797495</td>\n",
              "      <td>184.295922</td>\n",
              "      <td>3.619547</td>\n",
              "    </tr>\n",
              "    <tr>\n",
              "      <th>75%</th>\n",
              "      <td>182.884848</td>\n",
              "      <td>115288.000000</td>\n",
              "      <td>1995.500000</td>\n",
              "      <td>5.000000</td>\n",
              "      <td>21.325261</td>\n",
              "      <td>2.998727</td>\n",
              "      <td>9.834399</td>\n",
              "      <td>1.033215</td>\n",
              "      <td>1017.949437</td>\n",
              "      <td>187.301104</td>\n",
              "      <td>3.905433</td>\n",
              "    </tr>\n",
              "    <tr>\n",
              "      <th>max</th>\n",
              "      <td>5072.323426</td>\n",
              "      <td>875000.000000</td>\n",
              "      <td>2017.000000</td>\n",
              "      <td>26.000000</td>\n",
              "      <td>24.963702</td>\n",
              "      <td>5.671785</td>\n",
              "      <td>17.379328</td>\n",
              "      <td>11.675633</td>\n",
              "      <td>1018.052063</td>\n",
              "      <td>207.134076</td>\n",
              "      <td>5.493939</td>\n",
              "    </tr>\n",
              "  </tbody>\n",
              "</table>\n",
              "</div>\n",
              "      <button class=\"colab-df-convert\" onclick=\"convertToInteractive('df-158b7527-c319-482f-946e-30bdfb899522')\"\n",
              "              title=\"Convert this dataframe to an interactive table.\"\n",
              "              style=\"display:none;\">\n",
              "        \n",
              "  <svg xmlns=\"http://www.w3.org/2000/svg\" height=\"24px\"viewBox=\"0 0 24 24\"\n",
              "       width=\"24px\">\n",
              "    <path d=\"M0 0h24v24H0V0z\" fill=\"none\"/>\n",
              "    <path d=\"M18.56 5.44l.94 2.06.94-2.06 2.06-.94-2.06-.94-.94-2.06-.94 2.06-2.06.94zm-11 1L8.5 8.5l.94-2.06 2.06-.94-2.06-.94L8.5 2.5l-.94 2.06-2.06.94zm10 10l.94 2.06.94-2.06 2.06-.94-2.06-.94-.94-2.06-.94 2.06-2.06.94z\"/><path d=\"M17.41 7.96l-1.37-1.37c-.4-.4-.92-.59-1.43-.59-.52 0-1.04.2-1.43.59L10.3 9.45l-7.72 7.72c-.78.78-.78 2.05 0 2.83L4 21.41c.39.39.9.59 1.41.59.51 0 1.02-.2 1.41-.59l7.78-7.78 2.81-2.81c.8-.78.8-2.07 0-2.86zM5.41 20L4 18.59l7.72-7.72 1.47 1.35L5.41 20z\"/>\n",
              "  </svg>\n",
              "      </button>\n",
              "      \n",
              "  <style>\n",
              "    .colab-df-container {\n",
              "      display:flex;\n",
              "      flex-wrap:wrap;\n",
              "      gap: 12px;\n",
              "    }\n",
              "\n",
              "    .colab-df-convert {\n",
              "      background-color: #E8F0FE;\n",
              "      border: none;\n",
              "      border-radius: 50%;\n",
              "      cursor: pointer;\n",
              "      display: none;\n",
              "      fill: #1967D2;\n",
              "      height: 32px;\n",
              "      padding: 0 0 0 0;\n",
              "      width: 32px;\n",
              "    }\n",
              "\n",
              "    .colab-df-convert:hover {\n",
              "      background-color: #E2EBFA;\n",
              "      box-shadow: 0px 1px 2px rgba(60, 64, 67, 0.3), 0px 1px 3px 1px rgba(60, 64, 67, 0.15);\n",
              "      fill: #174EA6;\n",
              "    }\n",
              "\n",
              "    [theme=dark] .colab-df-convert {\n",
              "      background-color: #3B4455;\n",
              "      fill: #D2E3FC;\n",
              "    }\n",
              "\n",
              "    [theme=dark] .colab-df-convert:hover {\n",
              "      background-color: #434B5C;\n",
              "      box-shadow: 0px 1px 3px 1px rgba(0, 0, 0, 0.15);\n",
              "      filter: drop-shadow(0px 1px 2px rgba(0, 0, 0, 0.3));\n",
              "      fill: #FFFFFF;\n",
              "    }\n",
              "  </style>\n",
              "\n",
              "      <script>\n",
              "        const buttonEl =\n",
              "          document.querySelector('#df-158b7527-c319-482f-946e-30bdfb899522 button.colab-df-convert');\n",
              "        buttonEl.style.display =\n",
              "          google.colab.kernel.accessAllowed ? 'block' : 'none';\n",
              "\n",
              "        async function convertToInteractive(key) {\n",
              "          const element = document.querySelector('#df-158b7527-c319-482f-946e-30bdfb899522');\n",
              "          const dataTable =\n",
              "            await google.colab.kernel.invokeFunction('convertToInteractive',\n",
              "                                                     [key], {});\n",
              "          if (!dataTable) return;\n",
              "\n",
              "          const docLinkHtml = 'Like what you see? Visit the ' +\n",
              "            '<a target=\"_blank\" href=https://colab.research.google.com/notebooks/data_table.ipynb>data table notebook</a>'\n",
              "            + ' to learn more about interactive tables.';\n",
              "          element.innerHTML = '';\n",
              "          dataTable['output_type'] = 'display_data';\n",
              "          await google.colab.output.renderOutput(dataTable, element);\n",
              "          const docLink = document.createElement('div');\n",
              "          docLink.innerHTML = docLinkHtml;\n",
              "          element.appendChild(docLink);\n",
              "        }\n",
              "      </script>\n",
              "    </div>\n",
              "  </div>\n",
              "  "
            ]
          },
          "metadata": {},
          "execution_count": 27
        }
      ]
    },
    {
      "cell_type": "markdown",
      "source": [
        "**<h1>EDA (Exploratory Data Analysis) </h1>**"
      ],
      "metadata": {
        "id": "bNkXs04riSo7"
      }
    },
    {
      "cell_type": "code",
      "source": [
        "#Cek persentase missing values tiap kategori\n",
        "def percent_missing_val(df):\n",
        "\n",
        "  percent_missing = (df.isnull().sum() * 100) / len(df)\n",
        "  missing_value_df = pd.DataFrame({'column_name': df.columns,\n",
        "                                 'percent_missing': percent_missing})\n",
        "  return missing_value_df\n",
        "mvt = percent_missing_val(df)\n",
        "mvt"
      ],
      "metadata": {
        "id": "9pLyj1gFD7fp",
        "colab": {
          "base_uri": "https://localhost:8080/",
          "height": 426
        },
        "outputId": "3ff897f9-9411-4d49-847d-ddd987e4e689"
      },
      "execution_count": null,
      "outputs": [
        {
          "output_type": "execute_result",
          "data": {
            "text/plain": [
              "                           column_name  percent_missing\n",
              "meter_reading            meter_reading         0.000000\n",
              "primary_use                primary_use         0.000000\n",
              "square_feet                square_feet         0.000000\n",
              "year_built                  year_built        53.078556\n",
              "floor_count                floor_count        75.088464\n",
              "air_temperature        air_temperature         0.000000\n",
              "cloud_coverage          cloud_coverage         1.203114\n",
              "dew_temperature        dew_temperature         0.000000\n",
              "precip_depth_1_hr    precip_depth_1_hr        12.455768\n",
              "sea_level_pressure  sea_level_pressure         6.298655\n",
              "wind_direction          wind_direction         0.000000\n",
              "wind_speed                  wind_speed         0.000000"
            ],
            "text/html": [
              "\n",
              "  <div id=\"df-f2a5f6cf-34a3-49be-9da1-d60220e4ecae\">\n",
              "    <div class=\"colab-df-container\">\n",
              "      <div>\n",
              "<style scoped>\n",
              "    .dataframe tbody tr th:only-of-type {\n",
              "        vertical-align: middle;\n",
              "    }\n",
              "\n",
              "    .dataframe tbody tr th {\n",
              "        vertical-align: top;\n",
              "    }\n",
              "\n",
              "    .dataframe thead th {\n",
              "        text-align: right;\n",
              "    }\n",
              "</style>\n",
              "<table border=\"1\" class=\"dataframe\">\n",
              "  <thead>\n",
              "    <tr style=\"text-align: right;\">\n",
              "      <th></th>\n",
              "      <th>column_name</th>\n",
              "      <th>percent_missing</th>\n",
              "    </tr>\n",
              "  </thead>\n",
              "  <tbody>\n",
              "    <tr>\n",
              "      <th>meter_reading</th>\n",
              "      <td>meter_reading</td>\n",
              "      <td>0.000000</td>\n",
              "    </tr>\n",
              "    <tr>\n",
              "      <th>primary_use</th>\n",
              "      <td>primary_use</td>\n",
              "      <td>0.000000</td>\n",
              "    </tr>\n",
              "    <tr>\n",
              "      <th>square_feet</th>\n",
              "      <td>square_feet</td>\n",
              "      <td>0.000000</td>\n",
              "    </tr>\n",
              "    <tr>\n",
              "      <th>year_built</th>\n",
              "      <td>year_built</td>\n",
              "      <td>53.078556</td>\n",
              "    </tr>\n",
              "    <tr>\n",
              "      <th>floor_count</th>\n",
              "      <td>floor_count</td>\n",
              "      <td>75.088464</td>\n",
              "    </tr>\n",
              "    <tr>\n",
              "      <th>air_temperature</th>\n",
              "      <td>air_temperature</td>\n",
              "      <td>0.000000</td>\n",
              "    </tr>\n",
              "    <tr>\n",
              "      <th>cloud_coverage</th>\n",
              "      <td>cloud_coverage</td>\n",
              "      <td>1.203114</td>\n",
              "    </tr>\n",
              "    <tr>\n",
              "      <th>dew_temperature</th>\n",
              "      <td>dew_temperature</td>\n",
              "      <td>0.000000</td>\n",
              "    </tr>\n",
              "    <tr>\n",
              "      <th>precip_depth_1_hr</th>\n",
              "      <td>precip_depth_1_hr</td>\n",
              "      <td>12.455768</td>\n",
              "    </tr>\n",
              "    <tr>\n",
              "      <th>sea_level_pressure</th>\n",
              "      <td>sea_level_pressure</td>\n",
              "      <td>6.298655</td>\n",
              "    </tr>\n",
              "    <tr>\n",
              "      <th>wind_direction</th>\n",
              "      <td>wind_direction</td>\n",
              "      <td>0.000000</td>\n",
              "    </tr>\n",
              "    <tr>\n",
              "      <th>wind_speed</th>\n",
              "      <td>wind_speed</td>\n",
              "      <td>0.000000</td>\n",
              "    </tr>\n",
              "  </tbody>\n",
              "</table>\n",
              "</div>\n",
              "      <button class=\"colab-df-convert\" onclick=\"convertToInteractive('df-f2a5f6cf-34a3-49be-9da1-d60220e4ecae')\"\n",
              "              title=\"Convert this dataframe to an interactive table.\"\n",
              "              style=\"display:none;\">\n",
              "        \n",
              "  <svg xmlns=\"http://www.w3.org/2000/svg\" height=\"24px\"viewBox=\"0 0 24 24\"\n",
              "       width=\"24px\">\n",
              "    <path d=\"M0 0h24v24H0V0z\" fill=\"none\"/>\n",
              "    <path d=\"M18.56 5.44l.94 2.06.94-2.06 2.06-.94-2.06-.94-.94-2.06-.94 2.06-2.06.94zm-11 1L8.5 8.5l.94-2.06 2.06-.94-2.06-.94L8.5 2.5l-.94 2.06-2.06.94zm10 10l.94 2.06.94-2.06 2.06-.94-2.06-.94-.94-2.06-.94 2.06-2.06.94z\"/><path d=\"M17.41 7.96l-1.37-1.37c-.4-.4-.92-.59-1.43-.59-.52 0-1.04.2-1.43.59L10.3 9.45l-7.72 7.72c-.78.78-.78 2.05 0 2.83L4 21.41c.39.39.9.59 1.41.59.51 0 1.02-.2 1.41-.59l7.78-7.78 2.81-2.81c.8-.78.8-2.07 0-2.86zM5.41 20L4 18.59l7.72-7.72 1.47 1.35L5.41 20z\"/>\n",
              "  </svg>\n",
              "      </button>\n",
              "      \n",
              "  <style>\n",
              "    .colab-df-container {\n",
              "      display:flex;\n",
              "      flex-wrap:wrap;\n",
              "      gap: 12px;\n",
              "    }\n",
              "\n",
              "    .colab-df-convert {\n",
              "      background-color: #E8F0FE;\n",
              "      border: none;\n",
              "      border-radius: 50%;\n",
              "      cursor: pointer;\n",
              "      display: none;\n",
              "      fill: #1967D2;\n",
              "      height: 32px;\n",
              "      padding: 0 0 0 0;\n",
              "      width: 32px;\n",
              "    }\n",
              "\n",
              "    .colab-df-convert:hover {\n",
              "      background-color: #E2EBFA;\n",
              "      box-shadow: 0px 1px 2px rgba(60, 64, 67, 0.3), 0px 1px 3px 1px rgba(60, 64, 67, 0.15);\n",
              "      fill: #174EA6;\n",
              "    }\n",
              "\n",
              "    [theme=dark] .colab-df-convert {\n",
              "      background-color: #3B4455;\n",
              "      fill: #D2E3FC;\n",
              "    }\n",
              "\n",
              "    [theme=dark] .colab-df-convert:hover {\n",
              "      background-color: #434B5C;\n",
              "      box-shadow: 0px 1px 3px 1px rgba(0, 0, 0, 0.15);\n",
              "      filter: drop-shadow(0px 1px 2px rgba(0, 0, 0, 0.3));\n",
              "      fill: #FFFFFF;\n",
              "    }\n",
              "  </style>\n",
              "\n",
              "      <script>\n",
              "        const buttonEl =\n",
              "          document.querySelector('#df-f2a5f6cf-34a3-49be-9da1-d60220e4ecae button.colab-df-convert');\n",
              "        buttonEl.style.display =\n",
              "          google.colab.kernel.accessAllowed ? 'block' : 'none';\n",
              "\n",
              "        async function convertToInteractive(key) {\n",
              "          const element = document.querySelector('#df-f2a5f6cf-34a3-49be-9da1-d60220e4ecae');\n",
              "          const dataTable =\n",
              "            await google.colab.kernel.invokeFunction('convertToInteractive',\n",
              "                                                     [key], {});\n",
              "          if (!dataTable) return;\n",
              "\n",
              "          const docLinkHtml = 'Like what you see? Visit the ' +\n",
              "            '<a target=\"_blank\" href=https://colab.research.google.com/notebooks/data_table.ipynb>data table notebook</a>'\n",
              "            + ' to learn more about interactive tables.';\n",
              "          element.innerHTML = '';\n",
              "          dataTable['output_type'] = 'display_data';\n",
              "          await google.colab.output.renderOutput(dataTable, element);\n",
              "          const docLink = document.createElement('div');\n",
              "          docLink.innerHTML = docLinkHtml;\n",
              "          element.appendChild(docLink);\n",
              "        }\n",
              "      </script>\n",
              "    </div>\n",
              "  </div>\n",
              "  "
            ]
          },
          "metadata": {},
          "execution_count": 28
        }
      ]
    },
    {
      "cell_type": "code",
      "source": [
        "#Check for outliers and skewness of distribution\n",
        "\n",
        "plt.figure(figsize=(15,8))\n",
        "\n",
        "for i, col in enumerate(df.describe().columns):\n",
        "    plt.subplot(4,5, i+1)\n",
        "    sns.boxplot(x=df[col])\n",
        "    plt.tight_layout()"
      ],
      "metadata": {
        "colab": {
          "base_uri": "https://localhost:8080/",
          "height": 289
        },
        "id": "PFb_yESp_N_2",
        "outputId": "57bec040-c5f0-4f4e-cf39-6e0cc1237713"
      },
      "execution_count": null,
      "outputs": [
        {
          "output_type": "display_data",
          "data": {
            "text/plain": [
              "<Figure size 1080x576 with 11 Axes>"
            ],
            "image/png": "[encoded data removed]"
          },
          "metadata": {
            "needs_background": "light"
          }
        }
      ]
    },
    {
      "cell_type": "code",
      "source": [
        "plt.figure(figsize=(8,8))\n",
        "year_df= df.groupby('year_built').meter_reading.mean().reset_index()\n",
        "sns.lineplot(x=year_df['year_built'], y=year_df['meter_reading'], color='darkred')\n",
        "plt.ylabel(\"Meter Reading\")\n",
        "plt.title(\"Penggunaan meteran per tahun bangunan berdiri\")\n",
        "plt.show()"
      ],
      "metadata": {
        "colab": {
          "base_uri": "https://localhost:8080/",
          "height": 514
        },
        "id": "HrmPsNNBg5_I",
        "outputId": "188d9f9d-d5e1-4ebb-9d98-f3a1cd5693eb"
      },
      "execution_count": null,
      "outputs": [
        {
          "output_type": "display_data",
          "data": {
            "text/plain": [
              "<Figure size 576x576 with 1 Axes>"
            ],
            "image/png": "[encoded data removed]"
          },
          "metadata": {
            "needs_background": "light"
          }
        }
      ]
    },
    {
      "cell_type": "markdown",
      "source": [
        "Terlihat bahwa bangunan yang telah berdiri sejak tahun 1950 dan ke atas mengonsumsi energi lebih banyak"
      ],
      "metadata": {
        "id": "Tn1EMqg9tZR3"
      }
    },
    {
      "cell_type": "code",
      "source": [
        "order_list = ['Education', 'Technology/science', 'Entertainment/public assembly','Manufacturing/industrial', 'Office', 'Public services','Utility', 'Retail', 'Parking', 'Other', 'Healthcare', 'Warehouse/storage']\n",
        "plt.figure(figsize=(30,12))\n",
        "ax = sns.barplot(x= 'primary_use', y='meter_reading',data=df, ci=None,order=order_list).set(title=\"Penggunaan Energi Berdasarkan Kategori Penggunaan Utama\")\n"
      ],
      "metadata": {
        "id": "ioq_bgUx2UmW",
        "outputId": "df8c4e17-7f97-48ab-a51c-ed41660c7d73",
        "colab": {
          "base_uri": "https://localhost:8080/",
          "height": 284
        }
      },
      "execution_count": null,
      "outputs": [
        {
          "output_type": "display_data",
          "data": {
            "text/plain": [
              "<Figure size 2160x864 with 1 Axes>"
            ],
            "image/png": "[encoded data removed]"
          },
          "metadata": {
            "needs_background": "light"
          }
        }
      ]
    },
    {
      "cell_type": "markdown",
      "source": [
        "Terlihat dari grafik bahwa penggunaan energi paling banyak digunakan pada bidang kesehatan. Oleh karena itu, pasokan energi sebaiknya disalurkan lebih banyak pada bidang kesehatan (Healthcare). \n",
        "\n",
        "Sedangkan, penggunaan energi paling sedikit terdapat pada bidang warehouse. Oleh karena itu, untuk bidang tersebut, pasokan energi sebaiknya dapat disalurkan lebih sedikit dibandingkan bidang lainnya."
      ],
      "metadata": {
        "id": "Z4OgSfjL2YOX"
      }
    },
    {
      "cell_type": "code",
      "source": [
        "#Checking Distribution Luas Tanah\n",
        "\n",
        "plt.figure(figsize=(20,8))\n",
        "ax = sns.scatterplot(data=df, y=\"meter_reading\",x=\"square_feet\",hue=\"primary_use\").set(title=\"Pemakaian Energi berdasarkan kategori pengunaan dan luas tanah\")"
      ],
      "metadata": {
        "id": "-be-4QudW1LV",
        "colab": {
          "base_uri": "https://localhost:8080/",
          "height": 290
        },
        "outputId": "e75545ed-2d04-45b3-daf0-0628e99dbf84"
      },
      "execution_count": null,
      "outputs": [
        {
          "output_type": "display_data",
          "data": {
            "text/plain": [
              "<Figure size 1440x576 with 1 Axes>"
            ],
            "image/png": "[encoded data removed]"
          },
          "metadata": {
            "needs_background": "light"
          }
        }
      ]
    },
    {
      "cell_type": "code",
      "source": [
        "df2 = df.dropna(subset=['floor_count'])\n",
        "df2['floor_count'] = df2['floor_count'].astype(int)\n",
        "df2"
      ],
      "metadata": {
        "colab": {
          "base_uri": "https://localhost:8080/",
          "height": 592
        },
        "id": "pUsHu6wEaylO",
        "outputId": "5f7ec897-c6f3-4ee9-cee3-d6b8f6bcf77e"
      },
      "execution_count": null,
      "outputs": [
        {
          "output_type": "stream",
          "name": "stderr",
          "text": [
            "/usr/local/lib/python3.7/dist-packages/ipykernel_launcher.py:2: SettingWithCopyWarning: \n",
            "A value is trying to be set on a copy of a slice from a DataFrame.\n",
            "Try using .loc[row_indexer,col_indexer] = value instead\n",
            "\n",
            "See the caveats in the documentation: https://pandas.pydata.org/pandas-docs/stable/user_guide/indexing.html#returning-a-view-versus-a-copy\n",
            "  \n"
          ]
        },
        {
          "output_type": "execute_result",
          "data": {
            "text/plain": [
              "      meter_reading primary_use  square_feet  year_built  floor_count  \\\n",
              "105       78.124031   Education        50623         NaN            5   \n",
              "106        1.519550   Education         5374         NaN            4   \n",
              "107      234.756755   Education        97532      2005.0           10   \n",
              "108      239.155932   Education        81580      1913.0            5   \n",
              "109      255.898231   Education        56995      1953.0            6   \n",
              "...             ...         ...          ...         ...          ...   \n",
              "1038      25.512085   Education        28406         NaN            1   \n",
              "1039      71.310180      Retail        45305         NaN            2   \n",
              "1041     394.884467   Education       204998         NaN            4   \n",
              "1042      69.605817   Education        86714         NaN            4   \n",
              "1044      70.585299   Education        26372         NaN            4   \n",
              "\n",
              "      air_temperature  cloud_coverage  dew_temperature  precip_depth_1_hr  \\\n",
              "105         12.015507        0.059266         7.578107                NaN   \n",
              "106         12.015507        0.059266         7.578107                NaN   \n",
              "107         12.015507        0.059266         7.578107                NaN   \n",
              "108         12.015507        0.059266         7.578107                NaN   \n",
              "109         12.015507        0.059266         7.578107                NaN   \n",
              "...               ...             ...              ...                ...   \n",
              "1038         9.959092        5.671785         6.693409                NaN   \n",
              "1039         9.959092        5.671785         6.693409                NaN   \n",
              "1041         9.959092        5.671785         6.693409                NaN   \n",
              "1042         9.959092        5.671785         6.693409                NaN   \n",
              "1044         9.959092        5.671785         6.693409                NaN   \n",
              "\n",
              "      sea_level_pressure  wind_direction  wind_speed  \n",
              "105          1015.757132      197.769373    4.013777  \n",
              "106          1015.757132      197.769373    4.013777  \n",
              "107          1015.757132      197.769373    4.013777  \n",
              "108          1015.757132      197.769373    4.013777  \n",
              "109          1015.757132      197.769373    4.013777  \n",
              "...                  ...             ...         ...  \n",
              "1038         1014.017353      207.134076    5.493939  \n",
              "1039         1014.017353      207.134076    5.493939  \n",
              "1041         1014.017353      207.134076    5.493939  \n",
              "1042         1014.017353      207.134076    5.493939  \n",
              "1044         1014.017353      207.134076    5.493939  \n",
              "\n",
              "[352 rows x 12 columns]"
            ],
            "text/html": [
              "\n",
              "  <div id=\"df-b5cbe8b4-3d88-4f68-a54a-0659e10ba74a\">\n",
              "    <div class=\"colab-df-container\">\n",
              "      <div>\n",
              "<style scoped>\n",
              "    .dataframe tbody tr th:only-of-type {\n",
              "        vertical-align: middle;\n",
              "    }\n",
              "\n",
              "    .dataframe tbody tr th {\n",
              "        vertical-align: top;\n",
              "    }\n",
              "\n",
              "    .dataframe thead th {\n",
              "        text-align: right;\n",
              "    }\n",
              "</style>\n",
              "<table border=\"1\" class=\"dataframe\">\n",
              "  <thead>\n",
              "    <tr style=\"text-align: right;\">\n",
              "      <th></th>\n",
              "      <th>meter_reading</th>\n",
              "      <th>primary_use</th>\n",
              "      <th>square_feet</th>\n",
              "      <th>year_built</th>\n",
              "      <th>floor_count</th>\n",
              "      <th>air_temperature</th>\n",
              "      <th>cloud_coverage</th>\n",
              "      <th>dew_temperature</th>\n",
              "      <th>precip_depth_1_hr</th>\n",
              "      <th>sea_level_pressure</th>\n",
              "      <th>wind_direction</th>\n",
              "      <th>wind_speed</th>\n",
              "    </tr>\n",
              "  </thead>\n",
              "  <tbody>\n",
              "    <tr>\n",
              "      <th>105</th>\n",
              "      <td>78.124031</td>\n",
              "      <td>Education</td>\n",
              "      <td>50623</td>\n",
              "      <td>NaN</td>\n",
              "      <td>5</td>\n",
              "      <td>12.015507</td>\n",
              "      <td>0.059266</td>\n",
              "      <td>7.578107</td>\n",
              "      <td>NaN</td>\n",
              "      <td>1015.757132</td>\n",
              "      <td>197.769373</td>\n",
              "      <td>4.013777</td>\n",
              "    </tr>\n",
              "    <tr>\n",
              "      <th>106</th>\n",
              "      <td>1.519550</td>\n",
              "      <td>Education</td>\n",
              "      <td>5374</td>\n",
              "      <td>NaN</td>\n",
              "      <td>4</td>\n",
              "      <td>12.015507</td>\n",
              "      <td>0.059266</td>\n",
              "      <td>7.578107</td>\n",
              "      <td>NaN</td>\n",
              "      <td>1015.757132</td>\n",
              "      <td>197.769373</td>\n",
              "      <td>4.013777</td>\n",
              "    </tr>\n",
              "    <tr>\n",
              "      <th>107</th>\n",
              "      <td>234.756755</td>\n",
              "      <td>Education</td>\n",
              "      <td>97532</td>\n",
              "      <td>2005.0</td>\n",
              "      <td>10</td>\n",
              "      <td>12.015507</td>\n",
              "      <td>0.059266</td>\n",
              "      <td>7.578107</td>\n",
              "      <td>NaN</td>\n",
              "      <td>1015.757132</td>\n",
              "      <td>197.769373</td>\n",
              "      <td>4.013777</td>\n",
              "    </tr>\n",
              "    <tr>\n",
              "      <th>108</th>\n",
              "      <td>239.155932</td>\n",
              "      <td>Education</td>\n",
              "      <td>81580</td>\n",
              "      <td>1913.0</td>\n",
              "      <td>5</td>\n",
              "      <td>12.015507</td>\n",
              "      <td>0.059266</td>\n",
              "      <td>7.578107</td>\n",
              "      <td>NaN</td>\n",
              "      <td>1015.757132</td>\n",
              "      <td>197.769373</td>\n",
              "      <td>4.013777</td>\n",
              "    </tr>\n",
              "    <tr>\n",
              "      <th>109</th>\n",
              "      <td>255.898231</td>\n",
              "      <td>Education</td>\n",
              "      <td>56995</td>\n",
              "      <td>1953.0</td>\n",
              "      <td>6</td>\n",
              "      <td>12.015507</td>\n",
              "      <td>0.059266</td>\n",
              "      <td>7.578107</td>\n",
              "      <td>NaN</td>\n",
              "      <td>1015.757132</td>\n",
              "      <td>197.769373</td>\n",
              "      <td>4.013777</td>\n",
              "    </tr>\n",
              "    <tr>\n",
              "      <th>...</th>\n",
              "      <td>...</td>\n",
              "      <td>...</td>\n",
              "      <td>...</td>\n",
              "      <td>...</td>\n",
              "      <td>...</td>\n",
              "      <td>...</td>\n",
              "      <td>...</td>\n",
              "      <td>...</td>\n",
              "      <td>...</td>\n",
              "      <td>...</td>\n",
              "      <td>...</td>\n",
              "      <td>...</td>\n",
              "    </tr>\n",
              "    <tr>\n",
              "      <th>1038</th>\n",
              "      <td>25.512085</td>\n",
              "      <td>Education</td>\n",
              "      <td>28406</td>\n",
              "      <td>NaN</td>\n",
              "      <td>1</td>\n",
              "      <td>9.959092</td>\n",
              "      <td>5.671785</td>\n",
              "      <td>6.693409</td>\n",
              "      <td>NaN</td>\n",
              "      <td>1014.017353</td>\n",
              "      <td>207.134076</td>\n",
              "      <td>5.493939</td>\n",
              "    </tr>\n",
              "    <tr>\n",
              "      <th>1039</th>\n",
              "      <td>71.310180</td>\n",
              "      <td>Retail</td>\n",
              "      <td>45305</td>\n",
              "      <td>NaN</td>\n",
              "      <td>2</td>\n",
              "      <td>9.959092</td>\n",
              "      <td>5.671785</td>\n",
              "      <td>6.693409</td>\n",
              "      <td>NaN</td>\n",
              "      <td>1014.017353</td>\n",
              "      <td>207.134076</td>\n",
              "      <td>5.493939</td>\n",
              "    </tr>\n",
              "    <tr>\n",
              "      <th>1041</th>\n",
              "      <td>394.884467</td>\n",
              "      <td>Education</td>\n",
              "      <td>204998</td>\n",
              "      <td>NaN</td>\n",
              "      <td>4</td>\n",
              "      <td>9.959092</td>\n",
              "      <td>5.671785</td>\n",
              "      <td>6.693409</td>\n",
              "      <td>NaN</td>\n",
              "      <td>1014.017353</td>\n",
              "      <td>207.134076</td>\n",
              "      <td>5.493939</td>\n",
              "    </tr>\n",
              "    <tr>\n",
              "      <th>1042</th>\n",
              "      <td>69.605817</td>\n",
              "      <td>Education</td>\n",
              "      <td>86714</td>\n",
              "      <td>NaN</td>\n",
              "      <td>4</td>\n",
              "      <td>9.959092</td>\n",
              "      <td>5.671785</td>\n",
              "      <td>6.693409</td>\n",
              "      <td>NaN</td>\n",
              "      <td>1014.017353</td>\n",
              "      <td>207.134076</td>\n",
              "      <td>5.493939</td>\n",
              "    </tr>\n",
              "    <tr>\n",
              "      <th>1044</th>\n",
              "      <td>70.585299</td>\n",
              "      <td>Education</td>\n",
              "      <td>26372</td>\n",
              "      <td>NaN</td>\n",
              "      <td>4</td>\n",
              "      <td>9.959092</td>\n",
              "      <td>5.671785</td>\n",
              "      <td>6.693409</td>\n",
              "      <td>NaN</td>\n",
              "      <td>1014.017353</td>\n",
              "      <td>207.134076</td>\n",
              "      <td>5.493939</td>\n",
              "    </tr>\n",
              "  </tbody>\n",
              "</table>\n",
              "<p>352 rows × 12 columns</p>\n",
              "</div>\n",
              "      <button class=\"colab-df-convert\" onclick=\"convertToInteractive('df-b5cbe8b4-3d88-4f68-a54a-0659e10ba74a')\"\n",
              "              title=\"Convert this dataframe to an interactive table.\"\n",
              "              style=\"display:none;\">\n",
              "        \n",
              "  <svg xmlns=\"http://www.w3.org/2000/svg\" height=\"24px\"viewBox=\"0 0 24 24\"\n",
              "       width=\"24px\">\n",
              "    <path d=\"M0 0h24v24H0V0z\" fill=\"none\"/>\n",
              "    <path d=\"M18.56 5.44l.94 2.06.94-2.06 2.06-.94-2.06-.94-.94-2.06-.94 2.06-2.06.94zm-11 1L8.5 8.5l.94-2.06 2.06-.94-2.06-.94L8.5 2.5l-.94 2.06-2.06.94zm10 10l.94 2.06.94-2.06 2.06-.94-2.06-.94-.94-2.06-.94 2.06-2.06.94z\"/><path d=\"M17.41 7.96l-1.37-1.37c-.4-.4-.92-.59-1.43-.59-.52 0-1.04.2-1.43.59L10.3 9.45l-7.72 7.72c-.78.78-.78 2.05 0 2.83L4 21.41c.39.39.9.59 1.41.59.51 0 1.02-.2 1.41-.59l7.78-7.78 2.81-2.81c.8-.78.8-2.07 0-2.86zM5.41 20L4 18.59l7.72-7.72 1.47 1.35L5.41 20z\"/>\n",
              "  </svg>\n",
              "      </button>\n",
              "      \n",
              "  <style>\n",
              "    .colab-df-container {\n",
              "      display:flex;\n",
              "      flex-wrap:wrap;\n",
              "      gap: 12px;\n",
              "    }\n",
              "\n",
              "    .colab-df-convert {\n",
              "      background-color: #E8F0FE;\n",
              "      border: none;\n",
              "      border-radius: 50%;\n",
              "      cursor: pointer;\n",
              "      display: none;\n",
              "      fill: #1967D2;\n",
              "      height: 32px;\n",
              "      padding: 0 0 0 0;\n",
              "      width: 32px;\n",
              "    }\n",
              "\n",
              "    .colab-df-convert:hover {\n",
              "      background-color: #E2EBFA;\n",
              "      box-shadow: 0px 1px 2px rgba(60, 64, 67, 0.3), 0px 1px 3px 1px rgba(60, 64, 67, 0.15);\n",
              "      fill: #174EA6;\n",
              "    }\n",
              "\n",
              "    [theme=dark] .colab-df-convert {\n",
              "      background-color: #3B4455;\n",
              "      fill: #D2E3FC;\n",
              "    }\n",
              "\n",
              "    [theme=dark] .colab-df-convert:hover {\n",
              "      background-color: #434B5C;\n",
              "      box-shadow: 0px 1px 3px 1px rgba(0, 0, 0, 0.15);\n",
              "      filter: drop-shadow(0px 1px 2px rgba(0, 0, 0, 0.3));\n",
              "      fill: #FFFFFF;\n",
              "    }\n",
              "  </style>\n",
              "\n",
              "      <script>\n",
              "        const buttonEl =\n",
              "          document.querySelector('#df-b5cbe8b4-3d88-4f68-a54a-0659e10ba74a button.colab-df-convert');\n",
              "        buttonEl.style.display =\n",
              "          google.colab.kernel.accessAllowed ? 'block' : 'none';\n",
              "\n",
              "        async function convertToInteractive(key) {\n",
              "          const element = document.querySelector('#df-b5cbe8b4-3d88-4f68-a54a-0659e10ba74a');\n",
              "          const dataTable =\n",
              "            await google.colab.kernel.invokeFunction('convertToInteractive',\n",
              "                                                     [key], {});\n",
              "          if (!dataTable) return;\n",
              "\n",
              "          const docLinkHtml = 'Like what you see? Visit the ' +\n",
              "            '<a target=\"_blank\" href=https://colab.research.google.com/notebooks/data_table.ipynb>data table notebook</a>'\n",
              "            + ' to learn more about interactive tables.';\n",
              "          element.innerHTML = '';\n",
              "          dataTable['output_type'] = 'display_data';\n",
              "          await google.colab.output.renderOutput(dataTable, element);\n",
              "          const docLink = document.createElement('div');\n",
              "          docLink.innerHTML = docLinkHtml;\n",
              "          element.appendChild(docLink);\n",
              "        }\n",
              "      </script>\n",
              "    </div>\n",
              "  </div>\n",
              "  "
            ]
          },
          "metadata": {},
          "execution_count": 33
        }
      ]
    },
    {
      "cell_type": "code",
      "source": [
        "#Checking Distribusi Floor Count untuk mencari tipe imputasi data tepat -> handling missing values\n",
        "plt.figure(figsize=(7,5))\n",
        "ax = sns.countplot(data=df2, x=\"floor_count\").set(title=\"Distribusi Floor Count\")"
      ],
      "metadata": {
        "id": "13KXjFN9m0fH",
        "outputId": "1e9815d8-2043-4d69-cb63-c0bb25fb2cda",
        "colab": {
          "base_uri": "https://localhost:8080/",
          "height": 351
        }
      },
      "execution_count": null,
      "outputs": [
        {
          "output_type": "display_data",
          "data": {
            "text/plain": [
              "<Figure size 504x360 with 1 Axes>"
            ],
            "image/png": "[encoded data removed]"
          },
          "metadata": {
            "needs_background": "light"
          }
        }
      ]
    },
    {
      "cell_type": "code",
      "source": [
        "#Checking Floor Count and Meter Reading Correlation\n",
        "\n",
        "plt.figure(figsize=(7,5))\n",
        "ax = sns.barplot(data=df2, y=\"meter_reading\",x=\"floor_count\").set(title=\"Pemakaian Energi berdasarkan Kategori Pengunaan dan Jumlah Lantai\")"
      ],
      "metadata": {
        "colab": {
          "base_uri": "https://localhost:8080/",
          "height": 351
        },
        "id": "Sy_30tM_cd5J",
        "outputId": "c5b123a7-7e20-4a0c-f2be-a8cf59a6d21a"
      },
      "execution_count": null,
      "outputs": [
        {
          "output_type": "display_data",
          "data": {
            "text/plain": [
              "<Figure size 504x360 with 1 Axes>"
            ],
            "image/png": "[encoded data removed]"
          },
          "metadata": {
            "needs_background": "light"
          }
        }
      ]
    },
    {
      "cell_type": "code",
      "source": [
        "#Checking Floor Count and Meter Reading Correlation (2)\n",
        "\n",
        "plt.figure(figsize=(7,5))\n",
        "ax = sns.lineplot(data=df2, y=\"meter_reading\",x=\"floor_count\").set(title=\"Pemakaian Energi berdasarkan Jumlah Lantai\")"
      ],
      "metadata": {
        "colab": {
          "base_uri": "https://localhost:8080/",
          "height": 351
        },
        "id": "T1SkoJ5sd7UN",
        "outputId": "fc4a0f88-b275-4598-eada-e3fc9d34b015"
      },
      "execution_count": null,
      "outputs": [
        {
          "output_type": "display_data",
          "data": {
            "text/plain": [
              "<Figure size 504x360 with 1 Axes>"
            ],
            "image/png": "[encoded data removed]"
          },
          "metadata": {
            "needs_background": "light"
          }
        }
      ]
    },
    {
      "cell_type": "code",
      "source": [
        "plt.figure(figsize=(8,8))\n",
        "sns.distplot(df['year_built'].dropna(), color='darkred')\n",
        "plt.xlabel(\"Year Built\")\n",
        "plt.title(\"Distribution of Year built\")\n",
        "plt.show()"
      ],
      "metadata": {
        "colab": {
          "base_uri": "https://localhost:8080/",
          "height": 568
        },
        "id": "gfFBkH2-gySZ",
        "outputId": "be12dc3c-bd0b-45aa-ecb3-58f611109b77"
      },
      "execution_count": null,
      "outputs": [
        {
          "output_type": "stream",
          "name": "stderr",
          "text": [
            "/usr/local/lib/python3.7/dist-packages/seaborn/distributions.py:2619: FutureWarning: `distplot` is a deprecated function and will be removed in a future version. Please adapt your code to use either `displot` (a figure-level function with similar flexibility) or `histplot` (an axes-level function for histograms).\n",
            "  warnings.warn(msg, FutureWarning)\n"
          ]
        },
        {
          "output_type": "display_data",
          "data": {
            "text/plain": [
              "<Figure size 576x576 with 1 Axes>"
            ],
            "image/png": "[encoded data removed]"
          },
          "metadata": {
            "needs_background": "light"
          }
        }
      ]
    },
    {
      "cell_type": "markdown",
      "source": [
        "Distribusi tersebar selama periode 120 tahun. Sebagian besar bangunan dibangun setelah tahun 1950."
      ],
      "metadata": {
        "id": "wRaWoNIk9ltT"
      }
    },
    {
      "cell_type": "markdown",
      "source": [
        "**<h1>Correlation </h1>**"
      ],
      "metadata": {
        "id": "YMnpl-L8tPzt"
      }
    },
    {
      "cell_type": "code",
      "source": [
        "corr=df.corr()"
      ],
      "metadata": {
        "id": "DZOijP-dYo_S"
      },
      "execution_count": null,
      "outputs": []
    },
    {
      "cell_type": "code",
      "source": [
        "plt.figure(figsize=(20,14))\n",
        "ax=sns.heatmap(corr, annot=True, fmt=\".1f\",cmap=\"crest\").set(title=\"Heatmap Korelasi\")"
      ],
      "metadata": {
        "colab": {
          "base_uri": "https://localhost:8080/",
          "height": 525
        },
        "id": "oQNmlz83ZhPO",
        "outputId": "64aa8d3a-cb25-4d75-f6d6-2bb94b55f196"
      },
      "execution_count": null,
      "outputs": [
        {
          "output_type": "display_data",
          "data": {
            "text/plain": [
              "<Figure size 1440x1008 with 2 Axes>"
            ],
            "image/png": "[encoded data removed]"
          },
          "metadata": {
            "needs_background": "light"
          }
        }
      ]
    },
    {
      "cell_type": "markdown",
      "source": [
        "Variabel yang memiliki korelasi kuat dengan meter reading: Square_feet (0.6)\n",
        "\n",
        "Variabel yang memiliki korelasi sedang dengan meter reading: precip_depth_1_hr (0.4)\n",
        "\n",
        "Variabel yang memiliki korelasi positif sangat rendah dengan meter reading: year_built (0.1)\n",
        "\n",
        "Variabel yang memiliki korelasi negatif sangat rendah dengan meter reading: wind_speed (-0.1)\n",
        "\n",
        "Variabel yang tidak memiliki korelasi dengan meter reading: air_temperature cloud_coverage dew_temperature sea_level_pressure wind_direction"
      ],
      "metadata": {
        "id": "3_Er5F-3u5Eo"
      }
    },
    {
      "cell_type": "markdown",
      "source": [
        "**<h1>Regression</h1>**"
      ],
      "metadata": {
        "id": "qpFkKhRPs-HR"
      }
    },
    {
      "cell_type": "markdown",
      "source": [
        "### **Model 1**"
      ],
      "metadata": {
        "id": "xK36TijWxB-w"
      }
    },
    {
      "cell_type": "markdown",
      "source": [
        "Model menggunakan semua missing value"
      ],
      "metadata": {
        "id": "yCuR1_-kxJ_R"
      }
    },
    {
      "cell_type": "code",
      "source": [
        "res = ols(formula='meter_reading ~ primary_use + square_feet + floor_count + air_temperature + cloud_coverage + dew_temperature + precip_depth_1_hr + sea_level_pressure + wind_direction + wind_speed', data=df).fit()\n",
        "print(res.params)\n",
        "print(res.summary())"
      ],
      "metadata": {
        "colab": {
          "base_uri": "https://localhost:8080/"
        },
        "id": "2bBqsdEIh0yh",
        "outputId": "fb9eed66-c048-424d-d330-2b4bfcff0ba6"
      },
      "execution_count": null,
      "outputs": [
        {
          "output_type": "stream",
          "name": "stdout",
          "text": [
            "Intercept                                       8.928680e-05\n",
            "primary_use[T.Entertainment/public assembly]   -6.518890e+00\n",
            "primary_use[T.Food sales and service]           3.238006e-14\n",
            "primary_use[T.Healthcare]                      -1.566700e-13\n",
            "primary_use[T.Lodging/residential]             -5.327439e+01\n",
            "primary_use[T.Manufacturing/industrial]        -6.006801e-15\n",
            "primary_use[T.Office]                           8.662558e+00\n",
            "primary_use[T.Other]                           -2.783952e+01\n",
            "primary_use[T.Parking]                         -1.451777e+02\n",
            "primary_use[T.Public services]                 -3.253978e+01\n",
            "primary_use[T.Religious worship]                3.392237e-15\n",
            "primary_use[T.Retail]                          -3.773061e-14\n",
            "primary_use[T.Services]                         1.510840e-14\n",
            "primary_use[T.Technology/science]              -5.529796e+01\n",
            "primary_use[T.Utility]                          7.364712e+01\n",
            "primary_use[T.Warehouse/storage]               -4.460653e+01\n",
            "square_feet                                     1.571419e-03\n",
            "floor_count                                     2.991166e+01\n",
            "air_temperature                                 8.034136e-01\n",
            "cloud_coverage                                  1.958520e-01\n",
            "dew_temperature                                 1.302350e+00\n",
            "precip_depth_1_hr                               6.399569e-02\n",
            "sea_level_pressure                              2.701132e-01\n",
            "wind_direction                                 -2.030981e+00\n",
            "wind_speed                                      2.334634e-02\n",
            "dtype: float64\n",
            "                            OLS Regression Results                            \n",
            "==============================================================================\n",
            "Dep. Variable:          meter_reading   R-squared:                       0.607\n",
            "Model:                            OLS   Adj. R-squared:                  0.579\n",
            "Method:                 Least Squares   F-statistic:                     21.07\n",
            "Date:                Fri, 18 Nov 2022   Prob (F-statistic):           1.67e-29\n",
            "Time:                        09:43:37   Log-Likelihood:                -1223.7\n",
            "No. Observations:                 191   AIC:                             2475.\n",
            "Df Residuals:                     177   BIC:                             2521.\n",
            "Df Model:                          13                                         \n",
            "Covariance Type:            nonrobust                                         \n",
            "================================================================================================================\n",
            "                                                   coef    std err          t      P>|t|      [0.025      0.975]\n",
            "----------------------------------------------------------------------------------------------------------------\n",
            "Intercept                                     8.929e-05      0.000      0.220      0.826      -0.001       0.001\n",
            "primary_use[T.Entertainment/public assembly]    -6.5189     39.789     -0.164      0.870     -85.041      72.003\n",
            "primary_use[T.Food sales and service]         3.238e-14   1.77e-13      0.183      0.855   -3.16e-13    3.81e-13\n",
            "primary_use[T.Healthcare]                    -1.567e-13   2.18e-13     -0.718      0.474   -5.88e-13    2.74e-13\n",
            "primary_use[T.Lodging/residential]             -53.2744     60.867     -0.875      0.383    -173.394      66.845\n",
            "primary_use[T.Manufacturing/industrial]      -6.007e-15   6.62e-15     -0.907      0.366   -1.91e-14    7.06e-15\n",
            "primary_use[T.Office]                            8.6626     54.631      0.159      0.874     -99.150     116.475\n",
            "primary_use[T.Other]                           -27.8395     56.297     -0.495      0.622    -138.940      83.261\n",
            "primary_use[T.Parking]                        -145.1777     92.719     -1.566      0.119    -328.155      37.799\n",
            "primary_use[T.Public services]                 -32.5398     43.742     -0.744      0.458    -118.862      53.782\n",
            "primary_use[T.Religious worship]              3.392e-15   8.88e-15      0.382      0.703   -1.41e-14    2.09e-14\n",
            "primary_use[T.Retail]                        -3.773e-14   3.18e-14     -1.185      0.238   -1.01e-13    2.51e-14\n",
            "primary_use[T.Services]                       1.511e-14   9.21e-15      1.641      0.103   -3.06e-15    3.33e-14\n",
            "primary_use[T.Technology/science]              -55.2980     89.861     -0.615      0.539    -232.635     122.039\n",
            "primary_use[T.Utility]                          73.6471    154.944      0.475      0.635    -232.128     379.422\n",
            "primary_use[T.Warehouse/storage]               -44.6065    115.201     -0.387      0.699    -271.951     182.738\n",
            "square_feet                                      0.0016      0.000     11.283      0.000       0.001       0.002\n",
            "floor_count                                     29.9117      6.759      4.425      0.000      16.573      43.251\n",
            "air_temperature                                  0.8034      0.939      0.855      0.394      -1.051       2.657\n",
            "cloud_coverage                                   0.1959      0.302      0.648      0.518      -0.401       0.793\n",
            "dew_temperature                                  1.3023      2.024      0.643      0.521      -2.692       5.297\n",
            "precip_depth_1_hr                                0.0640      0.061      1.050      0.295      -0.056       0.184\n",
            "sea_level_pressure                               0.2701      0.188      1.440      0.152      -0.100       0.640\n",
            "wind_direction                                  -2.0310      0.935     -2.173      0.031      -3.875      -0.187\n",
            "wind_speed                                       0.0233      0.083      0.280      0.780      -0.141       0.188\n",
            "==============================================================================\n",
            "Omnibus:                      111.311   Durbin-Watson:                   2.119\n",
            "Prob(Omnibus):                  0.000   Jarque-Bera (JB):             1245.030\n",
            "Skew:                           1.932   Prob(JB):                    4.42e-271\n",
            "Kurtosis:                      14.896   Cond. No.                     4.71e+24\n",
            "==============================================================================\n",
            "\n",
            "Notes:\n",
            "[1] Standard Errors assume that the covariance matrix of the errors is correctly specified.\n",
            "[2] The smallest eigenvalue is 1.13e-37. This might indicate that there are\n",
            "strong multicollinearity problems or that the design matrix is singular.\n"
          ]
        }
      ]
    },
    {
      "cell_type": "markdown",
      "source": [
        "Dari model dengan menggunakan semua variabel, didapat variabel yang signifikan adalah square_feet, floor_count, dan wind_direction. Artinya, ketiga variabel ini, yaitu luas bersih yang bisa dibangun, jumlah lantai, dan arah mata angin memberikan pengaruh yang signifikan terhadap konsumsi energi dalam kWh."
      ],
      "metadata": {
        "id": "0vMXTYy-vB0F"
      }
    },
    {
      "cell_type": "code",
      "source": [
        "def forward_selected(data, response):\n",
        "\n",
        "    remaining = set(data.columns)\n",
        "    remaining.remove(response)\n",
        "    selected = []\n",
        "    current_score, best_new_score = 0.0, 0.0\n",
        "    while remaining and current_score == best_new_score:\n",
        "        scores_with_candidates = []\n",
        "        for candidate in remaining:\n",
        "            formula = \"{} ~ {} + 1\".format(response,\n",
        "                                           ' + '.join(selected + [candidate]))\n",
        "            score = smf.ols(formula, data).fit().rsquared_adj\n",
        "            scores_with_candidates.append((score, candidate))\n",
        "        scores_with_candidates.sort()\n",
        "        best_new_score, best_candidate = scores_with_candidates.pop()\n",
        "        if current_score < best_new_score:\n",
        "            remaining.remove(best_candidate)\n",
        "            selected.append(best_candidate)\n",
        "            current_score = best_new_score\n",
        "    formula = \"{} ~ {} + 1\".format(response, ' + '.join(selected))\n",
        "    model = smf.ols(formula, data).fit()\n",
        "    return model\n"
      ],
      "metadata": {
        "id": "VRSYV7_7kzrZ"
      },
      "execution_count": null,
      "outputs": []
    },
    {
      "cell_type": "code",
      "source": [
        "model = forward_selected(df, 'meter_reading')\n",
        "\n",
        "print(model.model.formula)\n",
        "print(model.rsquared_adj)"
      ],
      "metadata": {
        "id": "cliOcVc4mBkb",
        "outputId": "a988a4e3-5987-43f9-a2b2-945784bb723b",
        "colab": {
          "base_uri": "https://localhost:8080/"
        }
      },
      "execution_count": null,
      "outputs": [
        {
          "output_type": "stream",
          "name": "stdout",
          "text": [
            "meter_reading ~ square_feet + floor_count + precip_depth_1_hr + 1\n",
            "0.711054556712897\n"
          ]
        }
      ]
    },
    {
      "cell_type": "markdown",
      "source": [
        "Interpretasi forward selection: \n",
        "Kami tetap menggunakan variabel floor_count walaupun terdapat missing value sehingga data yang dipakai untuk regresi hanya 352 data. Berdasarkan metode slovin untuk mencari margin of error, diperoleh margin of error sebesar 4,62% dan masih tergolong rendah. Dengan demikian, dengan menggunakan data sebesar 352 data masih cukup mewakili untuk model regresi untuk data tersebut.\n",
        "\n",
        "Sama seperti dugaan awal ketika melihat heatmap, ternyata model yang terbaik yang dihasilkan oleh function **forward_selected** adalah variabel independen:\n",
        "1. square_feet\n",
        "2. floor_count\n",
        "3. precip_depth_1_hr\n",
        "\n",
        "Hal ini juga didukung oleh R-squared yang cukup baik yakni sebesar 0.711"
      ],
      "metadata": {
        "id": "7rqas0jDnSiD"
      }
    },
    {
      "cell_type": "code",
      "source": [
        "res2 = ols(formula='meter_reading ~ square_feet + floor_count + precip_depth_1_hr ', data=df).fit()\n",
        "print(res2.params)\n",
        "print(res2.summary())"
      ],
      "metadata": {
        "id": "rVybcHYzmC1T",
        "outputId": "294c43ba-5fe9-4969-f81d-e04118b97119",
        "colab": {
          "base_uri": "https://localhost:8080/"
        }
      },
      "execution_count": null,
      "outputs": [
        {
          "output_type": "stream",
          "name": "stdout",
          "text": [
            "Intercept           -176.033878\n",
            "square_feet            0.002482\n",
            "floor_count           10.713536\n",
            "precip_depth_1_hr    134.666123\n",
            "dtype: float64\n",
            "                            OLS Regression Results                            \n",
            "==============================================================================\n",
            "Dep. Variable:          meter_reading   R-squared:                       0.715\n",
            "Model:                            OLS   Adj. R-squared:                  0.711\n",
            "Method:                 Least Squares   F-statistic:                     166.7\n",
            "Date:                Fri, 18 Nov 2022   Prob (F-statistic):           4.85e-54\n",
            "Time:                        09:43:38   Log-Likelihood:                -1494.1\n",
            "No. Observations:                 203   AIC:                             2996.\n",
            "Df Residuals:                     199   BIC:                             3009.\n",
            "Df Model:                           3                                         \n",
            "Covariance Type:            nonrobust                                         \n",
            "=====================================================================================\n",
            "                        coef    std err          t      P>|t|      [0.025      0.975]\n",
            "-------------------------------------------------------------------------------------\n",
            "Intercept          -176.0339     38.209     -4.607      0.000    -251.381    -100.687\n",
            "square_feet           0.0025      0.000      8.514      0.000       0.002       0.003\n",
            "floor_count          10.7135      9.333      1.148      0.252      -7.691      29.118\n",
            "precip_depth_1_hr   134.6661     12.104     11.126      0.000     110.798     158.534\n",
            "==============================================================================\n",
            "Omnibus:                      179.263   Durbin-Watson:                   2.767\n",
            "Prob(Omnibus):                  0.000   Jarque-Bera (JB):             7317.875\n",
            "Skew:                           2.953   Prob(JB):                         0.00\n",
            "Kurtosis:                      31.815   Cond. No.                     2.17e+05\n",
            "==============================================================================\n",
            "\n",
            "Notes:\n",
            "[1] Standard Errors assume that the covariance matrix of the errors is correctly specified.\n",
            "[2] The condition number is large, 2.17e+05. This might indicate that there are\n",
            "strong multicollinearity or other numerical problems.\n"
          ]
        }
      ]
    },
    {
      "cell_type": "code",
      "source": [
        "from patsy import dmatrices\n",
        "from statsmodels.stats.outliers_influence import variance_inflation_factor\n",
        "\n",
        "#find design matrix for linear regression model using 'rating' as response variable \n",
        "y, X = dmatrices('meter_reading ~ square_feet + floor_count + precip_depth_1_hr', data=df, return_type='dataframe')\n",
        "\n",
        "#calculate VIF for each explanatory variable\n",
        "vif = pd.DataFrame()\n",
        "vif['VIF'] = [variance_inflation_factor(X.values, i) for i in range(X.shape[1])]\n",
        "vif['variable'] = X.columns\n",
        "\n",
        "#view VIF for each explanatory variable \n",
        "vif"
      ],
      "metadata": {
        "colab": {
          "base_uri": "https://localhost:8080/",
          "height": 175
        },
        "id": "AI40hTjw0TUJ",
        "outputId": "1040e89e-9925-48b9-a1bc-45bf94cafabc"
      },
      "execution_count": null,
      "outputs": [
        {
          "output_type": "execute_result",
          "data": {
            "text/plain": [
              "        VIF           variable\n",
              "0  2.008548          Intercept\n",
              "1  1.874924        square_feet\n",
              "2  1.587225        floor_count\n",
              "3  1.375389  precip_depth_1_hr"
            ],
            "text/html": [
              "\n",
              "  <div id=\"df-25013a7b-c020-4e25-a326-535235de5850\">\n",
              "    <div class=\"colab-df-container\">\n",
              "      <div>\n",
              "<style scoped>\n",
              "    .dataframe tbody tr th:only-of-type {\n",
              "        vertical-align: middle;\n",
              "    }\n",
              "\n",
              "    .dataframe tbody tr th {\n",
              "        vertical-align: top;\n",
              "    }\n",
              "\n",
              "    .dataframe thead th {\n",
              "        text-align: right;\n",
              "    }\n",
              "</style>\n",
              "<table border=\"1\" class=\"dataframe\">\n",
              "  <thead>\n",
              "    <tr style=\"text-align: right;\">\n",
              "      <th></th>\n",
              "      <th>VIF</th>\n",
              "      <th>variable</th>\n",
              "    </tr>\n",
              "  </thead>\n",
              "  <tbody>\n",
              "    <tr>\n",
              "      <th>0</th>\n",
              "      <td>2.008548</td>\n",
              "      <td>Intercept</td>\n",
              "    </tr>\n",
              "    <tr>\n",
              "      <th>1</th>\n",
              "      <td>1.874924</td>\n",
              "      <td>square_feet</td>\n",
              "    </tr>\n",
              "    <tr>\n",
              "      <th>2</th>\n",
              "      <td>1.587225</td>\n",
              "      <td>floor_count</td>\n",
              "    </tr>\n",
              "    <tr>\n",
              "      <th>3</th>\n",
              "      <td>1.375389</td>\n",
              "      <td>precip_depth_1_hr</td>\n",
              "    </tr>\n",
              "  </tbody>\n",
              "</table>\n",
              "</div>\n",
              "      <button class=\"colab-df-convert\" onclick=\"convertToInteractive('df-25013a7b-c020-4e25-a326-535235de5850')\"\n",
              "              title=\"Convert this dataframe to an interactive table.\"\n",
              "              style=\"display:none;\">\n",
              "        \n",
              "  <svg xmlns=\"http://www.w3.org/2000/svg\" height=\"24px\"viewBox=\"0 0 24 24\"\n",
              "       width=\"24px\">\n",
              "    <path d=\"M0 0h24v24H0V0z\" fill=\"none\"/>\n",
              "    <path d=\"M18.56 5.44l.94 2.06.94-2.06 2.06-.94-2.06-.94-.94-2.06-.94 2.06-2.06.94zm-11 1L8.5 8.5l.94-2.06 2.06-.94-2.06-.94L8.5 2.5l-.94 2.06-2.06.94zm10 10l.94 2.06.94-2.06 2.06-.94-2.06-.94-.94-2.06-.94 2.06-2.06.94z\"/><path d=\"M17.41 7.96l-1.37-1.37c-.4-.4-.92-.59-1.43-.59-.52 0-1.04.2-1.43.59L10.3 9.45l-7.72 7.72c-.78.78-.78 2.05 0 2.83L4 21.41c.39.39.9.59 1.41.59.51 0 1.02-.2 1.41-.59l7.78-7.78 2.81-2.81c.8-.78.8-2.07 0-2.86zM5.41 20L4 18.59l7.72-7.72 1.47 1.35L5.41 20z\"/>\n",
              "  </svg>\n",
              "      </button>\n",
              "      \n",
              "  <style>\n",
              "    .colab-df-container {\n",
              "      display:flex;\n",
              "      flex-wrap:wrap;\n",
              "      gap: 12px;\n",
              "    }\n",
              "\n",
              "    .colab-df-convert {\n",
              "      background-color: #E8F0FE;\n",
              "      border: none;\n",
              "      border-radius: 50%;\n",
              "      cursor: pointer;\n",
              "      display: none;\n",
              "      fill: #1967D2;\n",
              "      height: 32px;\n",
              "      padding: 0 0 0 0;\n",
              "      width: 32px;\n",
              "    }\n",
              "\n",
              "    .colab-df-convert:hover {\n",
              "      background-color: #E2EBFA;\n",
              "      box-shadow: 0px 1px 2px rgba(60, 64, 67, 0.3), 0px 1px 3px 1px rgba(60, 64, 67, 0.15);\n",
              "      fill: #174EA6;\n",
              "    }\n",
              "\n",
              "    [theme=dark] .colab-df-convert {\n",
              "      background-color: #3B4455;\n",
              "      fill: #D2E3FC;\n",
              "    }\n",
              "\n",
              "    [theme=dark] .colab-df-convert:hover {\n",
              "      background-color: #434B5C;\n",
              "      box-shadow: 0px 1px 3px 1px rgba(0, 0, 0, 0.15);\n",
              "      filter: drop-shadow(0px 1px 2px rgba(0, 0, 0, 0.3));\n",
              "      fill: #FFFFFF;\n",
              "    }\n",
              "  </style>\n",
              "\n",
              "      <script>\n",
              "        const buttonEl =\n",
              "          document.querySelector('#df-25013a7b-c020-4e25-a326-535235de5850 button.colab-df-convert');\n",
              "        buttonEl.style.display =\n",
              "          google.colab.kernel.accessAllowed ? 'block' : 'none';\n",
              "\n",
              "        async function convertToInteractive(key) {\n",
              "          const element = document.querySelector('#df-25013a7b-c020-4e25-a326-535235de5850');\n",
              "          const dataTable =\n",
              "            await google.colab.kernel.invokeFunction('convertToInteractive',\n",
              "                                                     [key], {});\n",
              "          if (!dataTable) return;\n",
              "\n",
              "          const docLinkHtml = 'Like what you see? Visit the ' +\n",
              "            '<a target=\"_blank\" href=https://colab.research.google.com/notebooks/data_table.ipynb>data table notebook</a>'\n",
              "            + ' to learn more about interactive tables.';\n",
              "          element.innerHTML = '';\n",
              "          dataTable['output_type'] = 'display_data';\n",
              "          await google.colab.output.renderOutput(dataTable, element);\n",
              "          const docLink = document.createElement('div');\n",
              "          docLink.innerHTML = docLinkHtml;\n",
              "          element.appendChild(docLink);\n",
              "        }\n",
              "      </script>\n",
              "    </div>\n",
              "  </div>\n",
              "  "
            ]
          },
          "metadata": {},
          "execution_count": 44
        }
      ]
    },
    {
      "cell_type": "markdown",
      "source": [
        "Dari nilai VIF yang diperoleh untuk model 1 terlihat bahwa tidak terjadi multikolinearitas karena nilai VIF < 10"
      ],
      "metadata": {
        "id": "CPubxRvK0V6j"
      }
    },
    {
      "cell_type": "markdown",
      "source": [
        "###**Model 2**"
      ],
      "metadata": {
        "id": "iads4ZbwxVn0"
      }
    },
    {
      "cell_type": "markdown",
      "source": [
        "Model dengan menghilangkan missing value"
      ],
      "metadata": {
        "id": "3fHLQsC4xZAo"
      }
    },
    {
      "cell_type": "code",
      "source": [
        "#drop missing value\n",
        "df2 = df.dropna()"
      ],
      "metadata": {
        "id": "F08YhZm1xj6L"
      },
      "execution_count": null,
      "outputs": []
    },
    {
      "cell_type": "code",
      "source": [
        "res3 = ols(formula='meter_reading ~ primary_use + square_feet + floor_count + air_temperature + cloud_coverage + dew_temperature + precip_depth_1_hr + sea_level_pressure + wind_direction + wind_speed', data=df2).fit()\n",
        "print(res3.params)\n",
        "print(res3.summary())"
      ],
      "metadata": {
        "colab": {
          "base_uri": "https://localhost:8080/"
        },
        "id": "VdGr6XlLxws_",
        "outputId": "3e6d248c-ca26-451e-a668-9960e544e443"
      },
      "execution_count": null,
      "outputs": [
        {
          "output_type": "stream",
          "name": "stdout",
          "text": [
            "Intercept                                        -0.000124\n",
            "primary_use[T.Entertainment/public assembly]     20.825673\n",
            "primary_use[T.Lodging/residential]             -109.362059\n",
            "primary_use[T.Parking]                         -119.933055\n",
            "primary_use[T.Public services]                  -82.468797\n",
            "primary_use[T.Technology/science]               -23.822415\n",
            "primary_use[T.Utility]                           79.973346\n",
            "square_feet                                       0.001360\n",
            "floor_count                                      36.918752\n",
            "air_temperature                                  -0.001820\n",
            "cloud_coverage                                   -0.000228\n",
            "dew_temperature                                  -0.001215\n",
            "precip_depth_1_hr                                -0.000054\n",
            "sea_level_pressure                               -0.125642\n",
            "wind_direction                                   -0.025395\n",
            "wind_speed                                       -0.000468\n",
            "dtype: float64\n",
            "                            OLS Regression Results                            \n",
            "==============================================================================\n",
            "Dep. Variable:          meter_reading   R-squared:                       0.512\n",
            "Model:                            OLS   Adj. R-squared:                  0.463\n",
            "Method:                 Least Squares   F-statistic:                     10.50\n",
            "Date:                Fri, 18 Nov 2022   Prob (F-statistic):           5.99e-10\n",
            "Time:                        09:43:38   Log-Likelihood:                -594.94\n",
            "No. Observations:                  89   AIC:                             1208.\n",
            "Df Residuals:                      80   BIC:                             1230.\n",
            "Df Model:                           8                                         \n",
            "Covariance Type:            nonrobust                                         \n",
            "================================================================================================================\n",
            "                                                   coef    std err          t      P>|t|      [0.025      0.975]\n",
            "----------------------------------------------------------------------------------------------------------------\n",
            "Intercept                                       -0.0001   5.35e-05     -2.312      0.023      -0.000   -1.72e-05\n",
            "primary_use[T.Entertainment/public assembly]    20.8257     77.108      0.270      0.788    -132.624     174.276\n",
            "primary_use[T.Lodging/residential]            -109.3621    105.638     -1.035      0.304    -319.588     100.864\n",
            "primary_use[T.Parking]                        -119.9331    130.390     -0.920      0.360    -379.418     139.552\n",
            "primary_use[T.Public services]                 -82.4688     89.772     -0.919      0.361    -261.120      96.182\n",
            "primary_use[T.Technology/science]              -23.8224    147.222     -0.162      0.872    -316.803     269.159\n",
            "primary_use[T.Utility]                          79.9733    208.408      0.384      0.702    -334.772     494.719\n",
            "square_feet                                      0.0014      0.000      3.719      0.000       0.001       0.002\n",
            "floor_count                                     36.9188     12.000      3.076      0.003      13.037      60.800\n",
            "air_temperature                                 -0.0018      0.001     -2.312      0.023      -0.003      -0.000\n",
            "cloud_coverage                                  -0.0002   9.86e-05     -2.312      0.023      -0.000   -3.17e-05\n",
            "dew_temperature                                 -0.0012      0.001     -2.312      0.023      -0.002      -0.000\n",
            "precip_depth_1_hr                            -5.439e-05   2.35e-05     -2.312      0.023      -0.000   -7.57e-06\n",
            "sea_level_pressure                              -0.1256      0.054     -2.312      0.023      -0.234      -0.017\n",
            "wind_direction                                  -0.0254      0.011     -2.312      0.023      -0.047      -0.004\n",
            "wind_speed                                      -0.0005      0.000     -2.312      0.023      -0.001   -6.51e-05\n",
            "==============================================================================\n",
            "Omnibus:                       41.808   Durbin-Watson:                   2.066\n",
            "Prob(Omnibus):                  0.000   Jarque-Bera (JB):              177.650\n",
            "Skew:                           1.396   Prob(JB):                     2.65e-39\n",
            "Kurtosis:                       9.333   Cond. No.                     2.60e+37\n",
            "==============================================================================\n",
            "\n",
            "Notes:\n",
            "[1] Standard Errors assume that the covariance matrix of the errors is correctly specified.\n",
            "[2] The smallest eigenvalue is 2.12e-63. This might indicate that there are\n",
            "strong multicollinearity problems or that the design matrix is singular.\n"
          ]
        }
      ]
    },
    {
      "cell_type": "code",
      "source": [
        "model2 = forward_selected(df2, 'meter_reading')\n",
        "\n",
        "print(model2.model.formula)\n",
        "print(model2.rsquared_adj)"
      ],
      "metadata": {
        "colab": {
          "base_uri": "https://localhost:8080/"
        },
        "id": "CYhRnhb0xyK1",
        "outputId": "4134d07b-54b3-46ad-8950-db7de525deef"
      },
      "execution_count": null,
      "outputs": [
        {
          "output_type": "stream",
          "name": "stdout",
          "text": [
            "meter_reading ~ floor_count + square_feet + year_built + wind_speed + wind_direction + air_temperature + 1\n",
            "0.5064634241570168\n"
          ]
        }
      ]
    },
    {
      "cell_type": "code",
      "source": [
        "res4 = ols(formula='meter_reading ~ floor_count + square_feet + year_built + wind_speed + wind_direction + air_temperature', data=df).fit()\n",
        "print(res4.params)\n",
        "print(res4.summary())"
      ],
      "metadata": {
        "colab": {
          "base_uri": "https://localhost:8080/"
        },
        "id": "LOxZDjrzyDOg",
        "outputId": "93ec9bd5-60d6-4388-d231-6595b93cc9a0"
      },
      "execution_count": null,
      "outputs": [
        {
          "output_type": "stream",
          "name": "stdout",
          "text": [
            "Intercept         -2218.911365\n",
            "floor_count          -3.307748\n",
            "square_feet           0.002793\n",
            "year_built            0.443350\n",
            "wind_speed         -663.889831\n",
            "wind_direction       30.969857\n",
            "air_temperature    -174.157320\n",
            "dtype: float64\n",
            "                            OLS Regression Results                            \n",
            "==============================================================================\n",
            "Dep. Variable:          meter_reading   R-squared:                       0.716\n",
            "Model:                            OLS   Adj. R-squared:                  0.708\n",
            "Method:                 Least Squares   F-statistic:                     92.78\n",
            "Date:                Fri, 18 Nov 2022   Prob (F-statistic):           1.36e-57\n",
            "Time:                        09:43:39   Log-Likelihood:                -1663.3\n",
            "No. Observations:                 228   AIC:                             3341.\n",
            "Df Residuals:                     221   BIC:                             3365.\n",
            "Df Model:                           6                                         \n",
            "Covariance Type:            nonrobust                                         \n",
            "===================================================================================\n",
            "                      coef    std err          t      P>|t|      [0.025      0.975]\n",
            "-----------------------------------------------------------------------------------\n",
            "Intercept       -2218.9114   2502.079     -0.887      0.376   -7149.900    2712.077\n",
            "floor_count        -3.3077     10.388     -0.318      0.750     -23.780      17.165\n",
            "square_feet         0.0028      0.000      7.772      0.000       0.002       0.004\n",
            "year_built          0.4434      0.877      0.506      0.614      -1.285       2.171\n",
            "wind_speed       -663.8898     75.762     -8.763      0.000    -813.198    -514.581\n",
            "wind_direction     30.9699      9.239      3.352      0.001      12.761      49.178\n",
            "air_temperature  -174.1573     16.664    -10.451      0.000    -206.997    -141.317\n",
            "==============================================================================\n",
            "Omnibus:                      185.424   Durbin-Watson:                   2.417\n",
            "Prob(Omnibus):                  0.000   Jarque-Bera (JB):             8466.725\n",
            "Skew:                           2.628   Prob(JB):                         0.00\n",
            "Kurtosis:                      32.387   Cond. No.                     1.43e+07\n",
            "==============================================================================\n",
            "\n",
            "Notes:\n",
            "[1] Standard Errors assume that the covariance matrix of the errors is correctly specified.\n",
            "[2] The condition number is large, 1.43e+07. This might indicate that there are\n",
            "strong multicollinearity or other numerical problems.\n"
          ]
        }
      ]
    },
    {
      "cell_type": "markdown",
      "source": [
        "Model yang dihasilkan oleh function forward_selected adalah variabel independen dengan menghilangkan missing value:\n",
        "\n",
        "1.   floor_count\n",
        "2.   square_feet\n",
        "3.   year_built\n",
        "4.   wind_speed\n",
        "5.   wind_direction\n",
        "6.   air_temperature\n",
        "\n",
        "Diperoleh R-squared yakni sebesar 0.506"
      ],
      "metadata": {
        "id": "cGx6eOBdzYvn"
      }
    },
    {
      "cell_type": "code",
      "source": [
        "#find design matrix for linear regression model using 'rating' as response variable \n",
        "y, X = dmatrices('meter_reading ~ floor_count + square_feet + year_built + wind_speed + wind_direction + air_temperature', data=df, return_type='dataframe')\n",
        "\n",
        "#calculate VIF for each explanatory variable\n",
        "vif = pd.DataFrame()\n",
        "vif['VIF'] = [variance_inflation_factor(X.values, i) for i in range(X.shape[1])]\n",
        "vif['variable'] = X.columns\n",
        "\n",
        "#view VIF for each explanatory variable \n",
        "vif"
      ],
      "metadata": {
        "colab": {
          "base_uri": "https://localhost:8080/",
          "height": 269
        },
        "id": "vYNdbRww0LSw",
        "outputId": "f9cf9741-8e89-4177-bda1-0944a0483b55"
      },
      "execution_count": null,
      "outputs": [
        {
          "output_type": "execute_result",
          "data": {
            "text/plain": [
              "            VIF         variable\n",
              "0  10888.709167        Intercept\n",
              "1      2.420415      floor_count\n",
              "2      2.524018      square_feet\n",
              "3      1.051196       year_built\n",
              "4      2.643059       wind_speed\n",
              "5      1.535046   wind_direction\n",
              "6      1.906582  air_temperature"
            ],
            "text/html": [
              "\n",
              "  <div id=\"df-68e43e11-4f20-4a9e-ab73-ecac7ce25c3d\">\n",
              "    <div class=\"colab-df-container\">\n",
              "      <div>\n",
              "<style scoped>\n",
              "    .dataframe tbody tr th:only-of-type {\n",
              "        vertical-align: middle;\n",
              "    }\n",
              "\n",
              "    .dataframe tbody tr th {\n",
              "        vertical-align: top;\n",
              "    }\n",
              "\n",
              "    .dataframe thead th {\n",
              "        text-align: right;\n",
              "    }\n",
              "</style>\n",
              "<table border=\"1\" class=\"dataframe\">\n",
              "  <thead>\n",
              "    <tr style=\"text-align: right;\">\n",
              "      <th></th>\n",
              "      <th>VIF</th>\n",
              "      <th>variable</th>\n",
              "    </tr>\n",
              "  </thead>\n",
              "  <tbody>\n",
              "    <tr>\n",
              "      <th>0</th>\n",
              "      <td>10888.709167</td>\n",
              "      <td>Intercept</td>\n",
              "    </tr>\n",
              "    <tr>\n",
              "      <th>1</th>\n",
              "      <td>2.420415</td>\n",
              "      <td>floor_count</td>\n",
              "    </tr>\n",
              "    <tr>\n",
              "      <th>2</th>\n",
              "      <td>2.524018</td>\n",
              "      <td>square_feet</td>\n",
              "    </tr>\n",
              "    <tr>\n",
              "      <th>3</th>\n",
              "      <td>1.051196</td>\n",
              "      <td>year_built</td>\n",
              "    </tr>\n",
              "    <tr>\n",
              "      <th>4</th>\n",
              "      <td>2.643059</td>\n",
              "      <td>wind_speed</td>\n",
              "    </tr>\n",
              "    <tr>\n",
              "      <th>5</th>\n",
              "      <td>1.535046</td>\n",
              "      <td>wind_direction</td>\n",
              "    </tr>\n",
              "    <tr>\n",
              "      <th>6</th>\n",
              "      <td>1.906582</td>\n",
              "      <td>air_temperature</td>\n",
              "    </tr>\n",
              "  </tbody>\n",
              "</table>\n",
              "</div>\n",
              "      <button class=\"colab-df-convert\" onclick=\"convertToInteractive('df-68e43e11-4f20-4a9e-ab73-ecac7ce25c3d')\"\n",
              "              title=\"Convert this dataframe to an interactive table.\"\n",
              "              style=\"display:none;\">\n",
              "        \n",
              "  <svg xmlns=\"http://www.w3.org/2000/svg\" height=\"24px\"viewBox=\"0 0 24 24\"\n",
              "       width=\"24px\">\n",
              "    <path d=\"M0 0h24v24H0V0z\" fill=\"none\"/>\n",
              "    <path d=\"M18.56 5.44l.94 2.06.94-2.06 2.06-.94-2.06-.94-.94-2.06-.94 2.06-2.06.94zm-11 1L8.5 8.5l.94-2.06 2.06-.94-2.06-.94L8.5 2.5l-.94 2.06-2.06.94zm10 10l.94 2.06.94-2.06 2.06-.94-2.06-.94-.94-2.06-.94 2.06-2.06.94z\"/><path d=\"M17.41 7.96l-1.37-1.37c-.4-.4-.92-.59-1.43-.59-.52 0-1.04.2-1.43.59L10.3 9.45l-7.72 7.72c-.78.78-.78 2.05 0 2.83L4 21.41c.39.39.9.59 1.41.59.51 0 1.02-.2 1.41-.59l7.78-7.78 2.81-2.81c.8-.78.8-2.07 0-2.86zM5.41 20L4 18.59l7.72-7.72 1.47 1.35L5.41 20z\"/>\n",
              "  </svg>\n",
              "      </button>\n",
              "      \n",
              "  <style>\n",
              "    .colab-df-container {\n",
              "      display:flex;\n",
              "      flex-wrap:wrap;\n",
              "      gap: 12px;\n",
              "    }\n",
              "\n",
              "    .colab-df-convert {\n",
              "      background-color: #E8F0FE;\n",
              "      border: none;\n",
              "      border-radius: 50%;\n",
              "      cursor: pointer;\n",
              "      display: none;\n",
              "      fill: #1967D2;\n",
              "      height: 32px;\n",
              "      padding: 0 0 0 0;\n",
              "      width: 32px;\n",
              "    }\n",
              "\n",
              "    .colab-df-convert:hover {\n",
              "      background-color: #E2EBFA;\n",
              "      box-shadow: 0px 1px 2px rgba(60, 64, 67, 0.3), 0px 1px 3px 1px rgba(60, 64, 67, 0.15);\n",
              "      fill: #174EA6;\n",
              "    }\n",
              "\n",
              "    [theme=dark] .colab-df-convert {\n",
              "      background-color: #3B4455;\n",
              "      fill: #D2E3FC;\n",
              "    }\n",
              "\n",
              "    [theme=dark] .colab-df-convert:hover {\n",
              "      background-color: #434B5C;\n",
              "      box-shadow: 0px 1px 3px 1px rgba(0, 0, 0, 0.15);\n",
              "      filter: drop-shadow(0px 1px 2px rgba(0, 0, 0, 0.3));\n",
              "      fill: #FFFFFF;\n",
              "    }\n",
              "  </style>\n",
              "\n",
              "      <script>\n",
              "        const buttonEl =\n",
              "          document.querySelector('#df-68e43e11-4f20-4a9e-ab73-ecac7ce25c3d button.colab-df-convert');\n",
              "        buttonEl.style.display =\n",
              "          google.colab.kernel.accessAllowed ? 'block' : 'none';\n",
              "\n",
              "        async function convertToInteractive(key) {\n",
              "          const element = document.querySelector('#df-68e43e11-4f20-4a9e-ab73-ecac7ce25c3d');\n",
              "          const dataTable =\n",
              "            await google.colab.kernel.invokeFunction('convertToInteractive',\n",
              "                                                     [key], {});\n",
              "          if (!dataTable) return;\n",
              "\n",
              "          const docLinkHtml = 'Like what you see? Visit the ' +\n",
              "            '<a target=\"_blank\" href=https://colab.research.google.com/notebooks/data_table.ipynb>data table notebook</a>'\n",
              "            + ' to learn more about interactive tables.';\n",
              "          element.innerHTML = '';\n",
              "          dataTable['output_type'] = 'display_data';\n",
              "          await google.colab.output.renderOutput(dataTable, element);\n",
              "          const docLink = document.createElement('div');\n",
              "          docLink.innerHTML = docLinkHtml;\n",
              "          element.appendChild(docLink);\n",
              "        }\n",
              "      </script>\n",
              "    </div>\n",
              "  </div>\n",
              "  "
            ]
          },
          "metadata": {},
          "execution_count": 49
        }
      ]
    },
    {
      "cell_type": "markdown",
      "source": [
        "Semua variabel memiliki VIF <10 sehingga tidak terjadi multikolinearitas"
      ],
      "metadata": {
        "id": "ThbTsYSQ1DQ_"
      }
    },
    {
      "cell_type": "markdown",
      "source": [
        "###**Perbandingan Kedua Model**"
      ],
      "metadata": {
        "id": "Rp8991P13Jke"
      }
    },
    {
      "cell_type": "markdown",
      "source": [
        "Berdasarkan hasil dari kedua model, model 1 (yang melibatkan missing value) memiliki nilai RSquared yang lebih besar daripada model 2 (tanpa missing value). Diperoleh nilai AIC model 1 sebesar 2996 dan nilai AIC model 2 sebesar 3341. Dengan demikian, kami memilih **model 1 sebagai model terbaik** dengan pertimbangan nilai RSquared, nilai AIC terkecil, dan jika regresi menggunakan hanya 352 berdasarkan metode slovin untuk mencari margin of error, diperoleh margin of error sebesar 4,62% dan masih tergolong rendah.\n",
        "\n",
        "Model 1: \n",
        "meter_reading = -176.033878 + (0.002481)square_feet + (10.713536)floor_count + (134.666123) precip_depth_1_hr."
      ],
      "metadata": {
        "id": "rNS4EGCm3R8P"
      }
    },
    {
      "cell_type": "markdown",
      "source": [
        "\n",
        "Interpretasi model terbaik\n",
        "*   Setiap kenaikan pada satu unit square_feet (luas bersih yang dapat dibangun), penggunaan energi cenderung naik sebesar 0.002481 kali lipat.\n",
        "*   Setiap kenaikan pada satu unit floor_count (jumlah lantai pada bangunan), penggunaan energi cenderung naik sebesar 10.713536 kali lipat.\n",
        "*   Setiap kenaikan pada precip_depth_1_hr (kedalaman tebing dalam satuan milimeter), penggunaan energi cenderung naik sebesar 131.666123 kali lipat.\n",
        "*   Ketika variabel square_feet (luas bersih yang dapat dibangun), floor_count (jumlah lantai pada bangunan), dan precip_depth_1_hr (kedalaman tebing dalam satuan milimeter) dianggap bernilai 0, penggunaan energi bernilai -176.033878.\n",
        "\n",
        "\n",
        "\n"
      ],
      "metadata": {
        "id": "QrGgKXy-9pLn"
      }
    },
    {
      "cell_type": "markdown",
      "source": [
        "#**Kesimpulan**\n",
        "\n",
        "*   Dari hasil Exploratory Data Analysis diperoleh bahwa energi yang paling banyak digunakan untuk bangunan bidang kesehatan dan paling sedikit bidang warehouse.\n",
        "*   Pemakaian energi cenderung meningkat seiring dengan jumlah lantai dan luas tanah yang semakin besar.\n",
        "\n",
        "\n",
        "\n"
      ],
      "metadata": {
        "id": "fj1eIwoJE4KU"
      }
    },
    {
      "cell_type": "markdown",
      "source": [
        "#**Rekomendasi**\n",
        "*   Bangunanan bidang kesehatan memiliki pengunaan listrik yang paling besar. Oleh karena itu, disarankan untuk membangun bangunan dalam bidang kesehatan yang memiliki jumlah lantai dan luas tanah yang besar sekalian agar energi yang digunakan untuk setiap pengunjungan ke bangunan tersebut lebih efisien.\n",
        "*   Untuk mengefisiensikan penggunaan listrik sebaiknya membangun bangunan dengan jumlah lantai sesuai dengan kebutuhannya karena pemakaian energi cenderung meningkat untuk jumlah lantai yang lebih besar. Hal tersebut juga berlaku untuk luas tanah bangunannya.\n",
        "*   Berdasarkan hasil regresi dan terpilih model terbaik, untuk lebih mengefisiensikan penggunaan energi per KwH lebih dipertimbangkan lagi untuk luas pembangunan dan jumlah lantai pada bangunan, serta kedalaman tebing pada bangunan. Karena meningkat satu unit untuk variabel tersebut, akan semakin tinggi jumlah penggunaan energinya.\n",
        "\n",
        "\n",
        "\n"
      ],
      "metadata": {
        "id": "5oFzz_i7FORK"
      }
    }
  ]
}